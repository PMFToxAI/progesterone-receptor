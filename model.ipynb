{
 "cells": [
  {
   "cell_type": "code",
   "execution_count": 1,
   "id": "fc954846-763a-4366-85e1-6c284143940c",
   "metadata": {},
   "outputs": [
    {
     "name": "stderr",
     "output_type": "stream",
     "text": [
      "2024-12-10 20:10:07.120170: I tensorflow/core/platform/cpu_feature_guard.cc:210] This TensorFlow binary is optimized to use available CPU instructions in performance-critical operations.\n",
      "To enable the following instructions: AVX2 FMA, in other operations, rebuild TensorFlow with the appropriate compiler flags.\n",
      "2024-12-10 20:10:07.961260: W tensorflow/compiler/tf2tensorrt/utils/py_utils.cc:38] TF-TRT Warning: Could not find TensorRT\n"
     ]
    }
   ],
   "source": [
    "import pandas as pd\n",
    "import os\n",
    "from tqdm import tqdm\n",
    "import requests\n",
    "import pandas as pd\n",
    "import numpy as np\n",
    "from datetime import datetime\n",
    "\n",
    "from rdkit.Chem import AllChem\n",
    "from rdkit import DataStructs\n",
    "from rdkit.Chem import Draw\n",
    "from rdkit.Chem.Draw import SimilarityMaps\n",
    "from rdkit import Chem, DataStructs\n",
    "from joblib import parallel_backend\n",
    "\n",
    "import tensorflow as tf\n",
    "import tensorflow.keras as keras\n",
    "from tensorflow.keras.models import Sequential\n",
    "from tensorflow.keras.layers import Dense, Dropout, Conv1D, Flatten, MaxPool1D\n",
    "\n",
    "from sklearn import preprocessing\n",
    "from sklearn.model_selection import train_test_split\n",
    "from sklearn.neighbors import NearestNeighbors\n",
    "from sklearn.metrics import classification_report\n",
    "\n",
    "import matplotlib.pyplot as plt\n",
    "import pickle\n",
    "import json\n",
    "\n",
    "import imblearn"
   ]
  },
  {
   "cell_type": "code",
   "execution_count": 2,
   "id": "f991bf4e-320d-4c29-8a6e-e2b3e6415ef7",
   "metadata": {},
   "outputs": [
    {
     "name": "stdout",
     "output_type": "stream",
     "text": [
      "type\n",
      "unknown       1264\n",
      "antagonist     645\n",
      "agonist        199\n",
      "Name: count, dtype: int64\n"
     ]
    }
   ],
   "source": [
    "df = pd.read_csv(\"PubChem_bioassay_text_'progesterone receptor'.csv\")\n",
    "pubchem_json = json.load(open(\"PubChem_bioassay_text_progesterone receptor_records2.json\"))\n",
    "pubchem_dict = dict()\n",
    "for assay in pubchem_json[\"PC_AssayContainer\"]:\n",
    "    pubchem_dict[assay[\"assay\"][\"descr\"][\"aid\"][\"id\"]] = assay\n",
    "df.aidname = df.aidname.str.lower()\n",
    "df[\"type\"] = \"unknown\"\n",
    "df.loc[(df.aidname.str.contains(\"agonist\")) & (~df.aidname.str.contains(\"antagonist\")), \"type\"] = \"agonist\"\n",
    "df.loc[(df.aidname.str.contains(\"antagonist\")), \"type\"] = \"antagonist\"\n",
    "df.loc[(df.aidname.str.contains(\"inhibition\")), \"type\"] = \"antagonist\"\n",
    "print(df.type.value_counts())\n",
    "columns = [\"PUBCHEM_RESULT_TAG\", \"PUBCHEM_SID\", \"PUBCHEM_CID\", \"PUBCHEM_EXT_DATASOURCE_SMILES\", \n",
    "           \"PUBCHEM_ACTIVITY_OUTCOME\", \"Standard Value\", \"Standard Units\"]\n",
    "columns = pd.Series(columns)\n",
    "def find_target(row):\n",
    "    aid = row[\"aid\"]\n",
    "    assay = pubchem_dict[aid]\n",
    "    descr = assay[\"assay\"][\"descr\"]\n",
    "    if \"target\" in descr:\n",
    "        targets = descr[\"target\"]\n",
    "        if len(targets) == 1 and targets[0][\"name\"].lower() == \"progesterone receptor\":\n",
    "            row[\"target\"] = \"progesterone receptor\"\n",
    "            row[\"target_pr\"] = True\n",
    "        else:\n",
    "            row[\"target\"] = \",\".join(t[\"name\"] for t in targets)\n",
    "            row[\"target_pr\"] = False\n",
    "    else:\n",
    "        row[\"target\"] = \"unknown\"\n",
    "        row[\"target_pr\"] = False\n",
    "        \n",
    "    return row\n",
    "\n",
    "def contains_nm(row):\n",
    "    aid = row[\"aid\"]\n",
    "    path = f\"./PubChem_bioassay_text_'progesterone receptor'_records/AID_{aid}.csv\"\n",
    "    if os.path.getsize(path) == 0:\n",
    "        row[\"contains_nm\"] = False\n",
    "        return row\n",
    "    df = pd.read_csv(path, low_memory=False)\n",
    "\n",
    "    if all(columns.isin(df.columns)) and (any(df[\"Standard Units\"] == \"nM\") \n",
    "                                          or (\"Potency-Replicate_1\" in df.columns \n",
    "                                              and \"Phenotype-Replicate_1\" in df.columns)):\n",
    "        row[\"contains_nm\"] = True\n",
    "    else:\n",
    "        row[\"contains_nm\"] = False\n",
    "    \n",
    "    return row\n",
    "    \n",
    "\n",
    "df = df.apply(lambda r: find_target(r), axis=1)\n",
    "df = df.apply(lambda r: contains_nm(r), axis=1)\n",
    "df[\"contains_expression\"] = (df.aidname.str.contains(\"expression\", case=False)  | df.aiddesc.str.contains(\"expression\", case=False))\n",
    "df[\"to_process\"] = (~df[\"contains_expression\"] & df[\"target_pr\"] & df[\"contains_nm\"])\n",
    "df.to_csv(\"assays.csv\")"
   ]
  },
  {
   "cell_type": "code",
   "execution_count": 3,
   "id": "baf54fca-5957-4e27-9754-c0b345651b99",
   "metadata": {},
   "outputs": [
    {
     "name": "stdout",
     "output_type": "stream",
     "text": [
      "before (2108, 35)\n",
      "after (278, 35)\n",
      "type\n",
      "unknown       130\n",
      "antagonist    105\n",
      "agonist        43\n",
      "Name: count, dtype: int64\n"
     ]
    }
   ],
   "source": [
    "files = os.listdir(\"./PubChem_bioassay_text_'progesterone receptor'_records\")\n",
    "assays = pd.read_csv(\"assays.csv\")\n",
    "assays.set_index(\"aid\", drop=False, inplace=True)\n",
    "print(\"before\", assays.shape)\n",
    "assays = assays[assays[\"to_process\"]]\n",
    "print(\"after\", assays.shape)\n",
    "print(assays.type.value_counts())"
   ]
  },
  {
   "cell_type": "code",
   "execution_count": 4,
   "id": "ffa81aef-4988-464a-a397-076a99b31a66",
   "metadata": {},
   "outputs": [
    {
     "name": "stderr",
     "output_type": "stream",
     "text": [
      "100%|██████████| 2108/2108 [00:00<00:00, 2218.08it/s]"
     ]
    },
    {
     "name": "stdout",
     "output_type": "stream",
     "text": [
      "skipped 1830 of 2108\n"
     ]
    },
    {
     "name": "stderr",
     "output_type": "stream",
     "text": [
      "\n"
     ]
    }
   ],
   "source": [
    "columns = [\"PUBCHEM_RESULT_TAG\", \"PUBCHEM_SID\", \"PUBCHEM_CID\", \"PUBCHEM_EXT_DATASOURCE_SMILES\", \n",
    "           \"PUBCHEM_ACTIVITY_OUTCOME\", \"Standard Value\", \"Standard Units\"]\n",
    "columns = pd.Series(columns)\n",
    "\n",
    "skipped = list()\n",
    "dfs = list()\n",
    "files = [f for f in files if \".csv\" in f and \"AID\" in f]\n",
    "\n",
    "for f in tqdm(files):\n",
    "    aid = int(f.replace(\"AID_\", \"\").replace(\".csv\", \"\"))\n",
    "    special_aid = None\n",
    "    if aid not in assays.aid.tolist():\n",
    "        skipped.append(f)\n",
    "        continue\n",
    "    try:\n",
    "        path = f\"./PubChem_bioassay_text_'progesterone receptor'_records/{f}\"\n",
    "        df = pd.read_csv(path, low_memory=False)\n",
    "\n",
    "        if \"Potency-Replicate_1\" in df.columns and \"Phenotype-Replicate_1\" in df.columns:\n",
    "            special_aid = aid\n",
    "            df.rename(inplace=True, columns={\"Potency-Replicate_1\": \"Standard Value\", \"Phenotype-Replicate_1\": \"Label\"})\n",
    "            df[\"Standard Value\"] = pd.to_numeric(df[\"Standard Value\"], errors=\"coerce\") * 1000 # to nM\n",
    "            df[\"Standard Units\"] = \"nM\"\n",
    "\n",
    "        # remove header columns\n",
    "        df[\"PUBCHEM_RESULT_TAG\"] = pd.to_numeric(df[\"PUBCHEM_RESULT_TAG\"], errors=\"coerce\")\n",
    "        df = df[~df[\"PUBCHEM_RESULT_TAG\"].isna()]\n",
    "\n",
    "        if all(columns.isin(df.columns)) and any(df[\"Standard Units\"] == \"nM\"):\n",
    "            df = df[columns]\n",
    "            df = df[df[\"Standard Units\"] == \"nM\"]\n",
    "            df[\"AID\"] = aid\n",
    "            df[\"AID_TYPE\"] = assays.loc[aid, \"type\"]\n",
    "            df[\"Standard Value\"] = df[\"Standard Value\"].astype(float)\n",
    "            df[\"Label\"] = \"Unknown\"\n",
    "            df.loc[(df[\"AID_TYPE\"] == \"agonist\") & (df[\"PUBCHEM_ACTIVITY_OUTCOME\"] == \"Active\"), \"Label\"] = \"Activator\"\n",
    "            df.loc[(df[\"AID_TYPE\"] == \"antagonist\") & (df[\"PUBCHEM_ACTIVITY_OUTCOME\"] == \"Active\"), \"Label\"] = \"Inhibitor\"\n",
    "            dfs.append(df)\n",
    "        else:\n",
    "            skipped.append(f)\n",
    "            if special_aid is not None:\n",
    "                print(f\"WARN: special aid not processed {aid}\")\n",
    "    except pd.errors.EmptyDataError:\n",
    "        pass\n",
    "\n",
    "print(\"skipped\", len(skipped), \"of\", len(files))\n",
    "\n",
    "dataset = pd.concat(dfs, ignore_index=True)"
   ]
  },
  {
   "cell_type": "code",
   "execution_count": 5,
   "id": "ba344c28-8296-4f42-aefd-203e3b5e94e1",
   "metadata": {},
   "outputs": [
    {
     "name": "stdout",
     "output_type": "stream",
     "text": [
      "0-90: 1513\n",
      "90-180: 189\n",
      "180-20000: 940\n",
      "20000-800000: 0\n",
      "800000 or Unspecified Activity Outcome: 487\n"
     ]
    }
   ],
   "source": [
    "# 4 - Strong: Activity concentration  0-0.09 μM (0-90 nM).\n",
    "# 3-  Moderate: Activity concentration between  0.09 and 0.18 μM (90 nM-180 nM).\n",
    "# 2 - Weak: Activity concentration between 0.18 -  20 μM. (180 nM - 20 000 nM)\n",
    "# 1 - Very Weak: Activity concentration between 20 - 800 μM. (20 000 nM - 800 000 nM)\n",
    "# 0-  Inactive: Activity concentration higher than 800 μM or inactive \n",
    "\n",
    "LABELS = [(\"strong\", 0, 90), \n",
    "          (\"moderate\", 90, 180), \n",
    "          (\"weak\", 180, 20000),\n",
    "          (\"very weak\", 20000, 800000),\n",
    "          (\"inactive\", 800000, None)\n",
    "         ]\n",
    "\n",
    "for label, r0, r1 in LABELS:\n",
    "    if label != \"inactive\":\n",
    "        count = dataset[(dataset[\"Standard Value\"] > r0) & (dataset[\"Standard Value\"] <= r1) \n",
    "                                & (dataset[\"PUBCHEM_ACTIVITY_OUTCOME\"] == \"Active\")]\n",
    "        print(f\"{r0}-{r1}: {count.shape[0]}\")\n",
    "    else:\n",
    "        count = dataset[(dataset[\"Standard Value\"] > r0) | (dataset[\"PUBCHEM_ACTIVITY_OUTCOME\"] == \"Unspecified\")]\n",
    "        print(f\"800000 or Unspecified Activity Outcome: {count.shape[0]}\")"
   ]
  },
  {
   "cell_type": "code",
   "execution_count": 6,
   "id": "99269876-4ff7-40d3-801f-ad12d611f62e",
   "metadata": {},
   "outputs": [
    {
     "data": {
      "text/plain": [
       "PUBCHEM_ACTIVITY_OUTCOME\n",
       "Active         2642\n",
       "Unspecified     487\n",
       "Inactive          1\n",
       "Name: count, dtype: int64"
      ]
     },
     "execution_count": 6,
     "metadata": {},
     "output_type": "execute_result"
    }
   ],
   "source": [
    "dataset.PUBCHEM_ACTIVITY_OUTCOME.value_counts()"
   ]
  },
  {
   "cell_type": "code",
   "execution_count": 7,
   "id": "b7adf7bc-6984-42ca-818d-613dbb42d9ed",
   "metadata": {},
   "outputs": [
    {
     "data": {
      "text/html": [
       "<div>\n",
       "<style scoped>\n",
       "    .dataframe tbody tr th:only-of-type {\n",
       "        vertical-align: middle;\n",
       "    }\n",
       "\n",
       "    .dataframe tbody tr th {\n",
       "        vertical-align: top;\n",
       "    }\n",
       "\n",
       "    .dataframe thead th {\n",
       "        text-align: right;\n",
       "    }\n",
       "</style>\n",
       "<table border=\"1\" class=\"dataframe\">\n",
       "  <thead>\n",
       "    <tr style=\"text-align: right;\">\n",
       "      <th></th>\n",
       "      <th>PUBCHEM_RESULT_TAG</th>\n",
       "      <th>PUBCHEM_SID</th>\n",
       "      <th>PUBCHEM_CID</th>\n",
       "      <th>PUBCHEM_EXT_DATASOURCE_SMILES</th>\n",
       "      <th>PUBCHEM_ACTIVITY_OUTCOME</th>\n",
       "      <th>Standard Value</th>\n",
       "      <th>Standard Units</th>\n",
       "      <th>AID</th>\n",
       "      <th>AID_TYPE</th>\n",
       "      <th>Label</th>\n",
       "    </tr>\n",
       "  </thead>\n",
       "  <tbody>\n",
       "    <tr>\n",
       "      <th>0</th>\n",
       "      <td>1.0</td>\n",
       "      <td>404718912.0</td>\n",
       "      <td>53359074.0</td>\n",
       "      <td>CCN(C)C(=O)C1=C(C=C(C=C1)C2=NC3=C(C=C2)[C@H](C...</td>\n",
       "      <td>Active</td>\n",
       "      <td>1829.0</td>\n",
       "      <td>nM</td>\n",
       "      <td>626800</td>\n",
       "      <td>unknown</td>\n",
       "      <td>Unknown</td>\n",
       "    </tr>\n",
       "    <tr>\n",
       "      <th>2</th>\n",
       "      <td>3.0</td>\n",
       "      <td>134449350.0</td>\n",
       "      <td>49851364.0</td>\n",
       "      <td>CC(C)([C@@H](C1=CC=CC=C1)C2=CC=C(C=C2)O)C(=O)N...</td>\n",
       "      <td>Active</td>\n",
       "      <td>273.0</td>\n",
       "      <td>nM</td>\n",
       "      <td>626800</td>\n",
       "      <td>unknown</td>\n",
       "      <td>Unknown</td>\n",
       "    </tr>\n",
       "    <tr>\n",
       "      <th>3</th>\n",
       "      <td>4.0</td>\n",
       "      <td>134460821.0</td>\n",
       "      <td>24952193.0</td>\n",
       "      <td>CC(C)([C@@H]1C2=C(C=C(C=C2)O)OC3=CC=CC=C13)C(=...</td>\n",
       "      <td>Active</td>\n",
       "      <td>53.0</td>\n",
       "      <td>nM</td>\n",
       "      <td>626800</td>\n",
       "      <td>unknown</td>\n",
       "      <td>Unknown</td>\n",
       "    </tr>\n",
       "    <tr>\n",
       "      <th>4</th>\n",
       "      <td>5.0</td>\n",
       "      <td>136920892.0</td>\n",
       "      <td>57390301.0</td>\n",
       "      <td>CC(C)OC1=CC=C(C=C1)C2=NC3=C(C=C2)[C@@H](C4=CC=...</td>\n",
       "      <td>Active</td>\n",
       "      <td>310.0</td>\n",
       "      <td>nM</td>\n",
       "      <td>626800</td>\n",
       "      <td>unknown</td>\n",
       "      <td>Unknown</td>\n",
       "    </tr>\n",
       "    <tr>\n",
       "      <th>5</th>\n",
       "      <td>6.0</td>\n",
       "      <td>136937246.0</td>\n",
       "      <td>57399054.0</td>\n",
       "      <td>CCCC1=CC=C(C=C1)C2=NC3=C(C=C2)[C@@H](C4=CC=CC=...</td>\n",
       "      <td>Active</td>\n",
       "      <td>285.0</td>\n",
       "      <td>nM</td>\n",
       "      <td>626800</td>\n",
       "      <td>unknown</td>\n",
       "      <td>Unknown</td>\n",
       "    </tr>\n",
       "    <tr>\n",
       "      <th>...</th>\n",
       "      <td>...</td>\n",
       "      <td>...</td>\n",
       "      <td>...</td>\n",
       "      <td>...</td>\n",
       "      <td>...</td>\n",
       "      <td>...</td>\n",
       "      <td>...</td>\n",
       "      <td>...</td>\n",
       "      <td>...</td>\n",
       "      <td>...</td>\n",
       "    </tr>\n",
       "    <tr>\n",
       "      <th>3121</th>\n",
       "      <td>18.0</td>\n",
       "      <td>103387854.0</td>\n",
       "      <td>10383035.0</td>\n",
       "      <td>CC1CCN(N=C1C2=CC=CC=C2)C(=O)C3=CC(=C(C=C3)Cl)Cl</td>\n",
       "      <td>Active</td>\n",
       "      <td>24.0</td>\n",
       "      <td>nM</td>\n",
       "      <td>162111</td>\n",
       "      <td>unknown</td>\n",
       "      <td>Unknown</td>\n",
       "    </tr>\n",
       "    <tr>\n",
       "      <th>3122</th>\n",
       "      <td>19.0</td>\n",
       "      <td>103387871.0</td>\n",
       "      <td>10594721.0</td>\n",
       "      <td>CC1(CC(=NN(C1)C(=O)C2=CC(=C(C=C2)Cl)Cl)C3=CC=C...</td>\n",
       "      <td>Active</td>\n",
       "      <td>75.3</td>\n",
       "      <td>nM</td>\n",
       "      <td>162111</td>\n",
       "      <td>unknown</td>\n",
       "      <td>Unknown</td>\n",
       "    </tr>\n",
       "    <tr>\n",
       "      <th>3123</th>\n",
       "      <td>20.0</td>\n",
       "      <td>103387941.0</td>\n",
       "      <td>10641642.0</td>\n",
       "      <td>C1CC(=NN(C1)C(=O)C2=CC(=C(C=C2)Cl)Cl)C3=CC=C(C...</td>\n",
       "      <td>Active</td>\n",
       "      <td>48.2</td>\n",
       "      <td>nM</td>\n",
       "      <td>162111</td>\n",
       "      <td>unknown</td>\n",
       "      <td>Unknown</td>\n",
       "    </tr>\n",
       "    <tr>\n",
       "      <th>3125</th>\n",
       "      <td>22.0</td>\n",
       "      <td>103387972.0</td>\n",
       "      <td>3831396.0</td>\n",
       "      <td>C1CC(=NN(C1)C(=O)C2=CC(=C(C=C2)Cl)Cl)C3=CC=CC=C3</td>\n",
       "      <td>Active</td>\n",
       "      <td>62.4</td>\n",
       "      <td>nM</td>\n",
       "      <td>162111</td>\n",
       "      <td>unknown</td>\n",
       "      <td>Unknown</td>\n",
       "    </tr>\n",
       "    <tr>\n",
       "      <th>3128</th>\n",
       "      <td>25.0</td>\n",
       "      <td>103388064.0</td>\n",
       "      <td>10780550.0</td>\n",
       "      <td>C1CC(=NN(C1)C(=O)C2=CC(=C(C=C2)F)F)C3=CC=CC=C3</td>\n",
       "      <td>Active</td>\n",
       "      <td>515.0</td>\n",
       "      <td>nM</td>\n",
       "      <td>162111</td>\n",
       "      <td>unknown</td>\n",
       "      <td>Unknown</td>\n",
       "    </tr>\n",
       "  </tbody>\n",
       "</table>\n",
       "<p>2643 rows × 10 columns</p>\n",
       "</div>"
      ],
      "text/plain": [
       "      PUBCHEM_RESULT_TAG  PUBCHEM_SID  PUBCHEM_CID  \\\n",
       "0                    1.0  404718912.0   53359074.0   \n",
       "2                    3.0  134449350.0   49851364.0   \n",
       "3                    4.0  134460821.0   24952193.0   \n",
       "4                    5.0  136920892.0   57390301.0   \n",
       "5                    6.0  136937246.0   57399054.0   \n",
       "...                  ...          ...          ...   \n",
       "3121                18.0  103387854.0   10383035.0   \n",
       "3122                19.0  103387871.0   10594721.0   \n",
       "3123                20.0  103387941.0   10641642.0   \n",
       "3125                22.0  103387972.0    3831396.0   \n",
       "3128                25.0  103388064.0   10780550.0   \n",
       "\n",
       "                          PUBCHEM_EXT_DATASOURCE_SMILES  \\\n",
       "0     CCN(C)C(=O)C1=C(C=C(C=C1)C2=NC3=C(C=C2)[C@H](C...   \n",
       "2     CC(C)([C@@H](C1=CC=CC=C1)C2=CC=C(C=C2)O)C(=O)N...   \n",
       "3     CC(C)([C@@H]1C2=C(C=C(C=C2)O)OC3=CC=CC=C13)C(=...   \n",
       "4     CC(C)OC1=CC=C(C=C1)C2=NC3=C(C=C2)[C@@H](C4=CC=...   \n",
       "5     CCCC1=CC=C(C=C1)C2=NC3=C(C=C2)[C@@H](C4=CC=CC=...   \n",
       "...                                                 ...   \n",
       "3121    CC1CCN(N=C1C2=CC=CC=C2)C(=O)C3=CC(=C(C=C3)Cl)Cl   \n",
       "3122  CC1(CC(=NN(C1)C(=O)C2=CC(=C(C=C2)Cl)Cl)C3=CC=C...   \n",
       "3123  C1CC(=NN(C1)C(=O)C2=CC(=C(C=C2)Cl)Cl)C3=CC=C(C...   \n",
       "3125   C1CC(=NN(C1)C(=O)C2=CC(=C(C=C2)Cl)Cl)C3=CC=CC=C3   \n",
       "3128     C1CC(=NN(C1)C(=O)C2=CC(=C(C=C2)F)F)C3=CC=CC=C3   \n",
       "\n",
       "     PUBCHEM_ACTIVITY_OUTCOME  Standard Value Standard Units     AID AID_TYPE  \\\n",
       "0                      Active          1829.0             nM  626800  unknown   \n",
       "2                      Active           273.0             nM  626800  unknown   \n",
       "3                      Active            53.0             nM  626800  unknown   \n",
       "4                      Active           310.0             nM  626800  unknown   \n",
       "5                      Active           285.0             nM  626800  unknown   \n",
       "...                       ...             ...            ...     ...      ...   \n",
       "3121                   Active            24.0             nM  162111  unknown   \n",
       "3122                   Active            75.3             nM  162111  unknown   \n",
       "3123                   Active            48.2             nM  162111  unknown   \n",
       "3125                   Active            62.4             nM  162111  unknown   \n",
       "3128                   Active           515.0             nM  162111  unknown   \n",
       "\n",
       "        Label  \n",
       "0     Unknown  \n",
       "2     Unknown  \n",
       "3     Unknown  \n",
       "4     Unknown  \n",
       "5     Unknown  \n",
       "...       ...  \n",
       "3121  Unknown  \n",
       "3122  Unknown  \n",
       "3123  Unknown  \n",
       "3125  Unknown  \n",
       "3128  Unknown  \n",
       "\n",
       "[2643 rows x 10 columns]"
      ]
     },
     "execution_count": 7,
     "metadata": {},
     "output_type": "execute_result"
    }
   ],
   "source": [
    "dataset = dataset[dataset.PUBCHEM_ACTIVITY_OUTCOME.isin([\"Active\", \"Inactive\"])].copy()\n",
    "dataset"
   ]
  },
  {
   "cell_type": "code",
   "execution_count": 8,
   "id": "3b85f20f-3c32-4b7e-beb6-7b128b96ebd3",
   "metadata": {},
   "outputs": [
    {
     "data": {
      "text/plain": [
       "Label\n",
       "Unknown      1165\n",
       "Inhibitor    1041\n",
       "Activator     437\n",
       "Name: count, dtype: int64"
      ]
     },
     "execution_count": 8,
     "metadata": {},
     "output_type": "execute_result"
    }
   ],
   "source": [
    "dataset.Label.value_counts()"
   ]
  },
  {
   "cell_type": "code",
   "execution_count": 9,
   "id": "24222023-adcd-4971-91fd-4710d28d65cf",
   "metadata": {},
   "outputs": [],
   "source": [
    "dataset[\"Group\"] = \"inactive\"\n",
    "for label, r0, r1 in LABELS:\n",
    "    if label != \"inactive\":\n",
    "        dataset.loc[(dataset[\"Standard Value\"] > r0) & \n",
    "        (dataset[\"Standard Value\"] <= r1) & \n",
    "        (dataset[\"PUBCHEM_ACTIVITY_OUTCOME\"] == \"Active\"), \"Group\"] = label"
   ]
  },
  {
   "cell_type": "code",
   "execution_count": 10,
   "id": "5210a6e4-5d15-4905-89d6-664640ca9d0b",
   "metadata": {},
   "outputs": [
    {
     "data": {
      "text/html": [
       "<div>\n",
       "<style scoped>\n",
       "    .dataframe tbody tr th:only-of-type {\n",
       "        vertical-align: middle;\n",
       "    }\n",
       "\n",
       "    .dataframe tbody tr th {\n",
       "        vertical-align: top;\n",
       "    }\n",
       "\n",
       "    .dataframe thead th {\n",
       "        text-align: right;\n",
       "    }\n",
       "</style>\n",
       "<table border=\"1\" class=\"dataframe\">\n",
       "  <thead>\n",
       "    <tr style=\"text-align: right;\">\n",
       "      <th></th>\n",
       "      <th>CID</th>\n",
       "      <th>SMILES</th>\n",
       "      <th>Label</th>\n",
       "      <th>Group</th>\n",
       "      <th>AID</th>\n",
       "    </tr>\n",
       "  </thead>\n",
       "  <tbody>\n",
       "    <tr>\n",
       "      <th>0</th>\n",
       "      <td>53359074.0</td>\n",
       "      <td>CCN(C)C(=O)C1=C(C=C(C=C1)C2=NC3=C(C=C2)[C@H](C...</td>\n",
       "      <td>Unknown</td>\n",
       "      <td>weak</td>\n",
       "      <td>626800</td>\n",
       "    </tr>\n",
       "    <tr>\n",
       "      <th>2</th>\n",
       "      <td>49851364.0</td>\n",
       "      <td>CC(C)([C@@H](C1=CC=CC=C1)C2=CC=C(C=C2)O)C(=O)N...</td>\n",
       "      <td>Unknown</td>\n",
       "      <td>weak</td>\n",
       "      <td>626800</td>\n",
       "    </tr>\n",
       "    <tr>\n",
       "      <th>3</th>\n",
       "      <td>24952193.0</td>\n",
       "      <td>CC(C)([C@@H]1C2=C(C=C(C=C2)O)OC3=CC=CC=C13)C(=...</td>\n",
       "      <td>Unknown</td>\n",
       "      <td>strong</td>\n",
       "      <td>626800</td>\n",
       "    </tr>\n",
       "    <tr>\n",
       "      <th>4</th>\n",
       "      <td>57390301.0</td>\n",
       "      <td>CC(C)OC1=CC=C(C=C1)C2=NC3=C(C=C2)[C@@H](C4=CC=...</td>\n",
       "      <td>Unknown</td>\n",
       "      <td>weak</td>\n",
       "      <td>626800</td>\n",
       "    </tr>\n",
       "    <tr>\n",
       "      <th>5</th>\n",
       "      <td>57399054.0</td>\n",
       "      <td>CCCC1=CC=C(C=C1)C2=NC3=C(C=C2)[C@@H](C4=CC=CC=...</td>\n",
       "      <td>Unknown</td>\n",
       "      <td>weak</td>\n",
       "      <td>626800</td>\n",
       "    </tr>\n",
       "    <tr>\n",
       "      <th>...</th>\n",
       "      <td>...</td>\n",
       "      <td>...</td>\n",
       "      <td>...</td>\n",
       "      <td>...</td>\n",
       "      <td>...</td>\n",
       "    </tr>\n",
       "    <tr>\n",
       "      <th>3121</th>\n",
       "      <td>10383035.0</td>\n",
       "      <td>CC1CCN(N=C1C2=CC=CC=C2)C(=O)C3=CC(=C(C=C3)Cl)Cl</td>\n",
       "      <td>Unknown</td>\n",
       "      <td>strong</td>\n",
       "      <td>162111</td>\n",
       "    </tr>\n",
       "    <tr>\n",
       "      <th>3122</th>\n",
       "      <td>10594721.0</td>\n",
       "      <td>CC1(CC(=NN(C1)C(=O)C2=CC(=C(C=C2)Cl)Cl)C3=CC=C...</td>\n",
       "      <td>Unknown</td>\n",
       "      <td>strong</td>\n",
       "      <td>162111</td>\n",
       "    </tr>\n",
       "    <tr>\n",
       "      <th>3123</th>\n",
       "      <td>10641642.0</td>\n",
       "      <td>C1CC(=NN(C1)C(=O)C2=CC(=C(C=C2)Cl)Cl)C3=CC=C(C...</td>\n",
       "      <td>Unknown</td>\n",
       "      <td>strong</td>\n",
       "      <td>162111</td>\n",
       "    </tr>\n",
       "    <tr>\n",
       "      <th>3125</th>\n",
       "      <td>3831396.0</td>\n",
       "      <td>C1CC(=NN(C1)C(=O)C2=CC(=C(C=C2)Cl)Cl)C3=CC=CC=C3</td>\n",
       "      <td>Unknown</td>\n",
       "      <td>strong</td>\n",
       "      <td>162111</td>\n",
       "    </tr>\n",
       "    <tr>\n",
       "      <th>3128</th>\n",
       "      <td>10780550.0</td>\n",
       "      <td>C1CC(=NN(C1)C(=O)C2=CC(=C(C=C2)F)F)C3=CC=CC=C3</td>\n",
       "      <td>Unknown</td>\n",
       "      <td>weak</td>\n",
       "      <td>162111</td>\n",
       "    </tr>\n",
       "  </tbody>\n",
       "</table>\n",
       "<p>2643 rows × 5 columns</p>\n",
       "</div>"
      ],
      "text/plain": [
       "             CID                                             SMILES    Label  \\\n",
       "0     53359074.0  CCN(C)C(=O)C1=C(C=C(C=C1)C2=NC3=C(C=C2)[C@H](C...  Unknown   \n",
       "2     49851364.0  CC(C)([C@@H](C1=CC=CC=C1)C2=CC=C(C=C2)O)C(=O)N...  Unknown   \n",
       "3     24952193.0  CC(C)([C@@H]1C2=C(C=C(C=C2)O)OC3=CC=CC=C13)C(=...  Unknown   \n",
       "4     57390301.0  CC(C)OC1=CC=C(C=C1)C2=NC3=C(C=C2)[C@@H](C4=CC=...  Unknown   \n",
       "5     57399054.0  CCCC1=CC=C(C=C1)C2=NC3=C(C=C2)[C@@H](C4=CC=CC=...  Unknown   \n",
       "...          ...                                                ...      ...   \n",
       "3121  10383035.0    CC1CCN(N=C1C2=CC=CC=C2)C(=O)C3=CC(=C(C=C3)Cl)Cl  Unknown   \n",
       "3122  10594721.0  CC1(CC(=NN(C1)C(=O)C2=CC(=C(C=C2)Cl)Cl)C3=CC=C...  Unknown   \n",
       "3123  10641642.0  C1CC(=NN(C1)C(=O)C2=CC(=C(C=C2)Cl)Cl)C3=CC=C(C...  Unknown   \n",
       "3125   3831396.0   C1CC(=NN(C1)C(=O)C2=CC(=C(C=C2)Cl)Cl)C3=CC=CC=C3  Unknown   \n",
       "3128  10780550.0     C1CC(=NN(C1)C(=O)C2=CC(=C(C=C2)F)F)C3=CC=CC=C3  Unknown   \n",
       "\n",
       "       Group     AID  \n",
       "0       weak  626800  \n",
       "2       weak  626800  \n",
       "3     strong  626800  \n",
       "4       weak  626800  \n",
       "5       weak  626800  \n",
       "...      ...     ...  \n",
       "3121  strong  162111  \n",
       "3122  strong  162111  \n",
       "3123  strong  162111  \n",
       "3125  strong  162111  \n",
       "3128    weak  162111  \n",
       "\n",
       "[2643 rows x 5 columns]"
      ]
     },
     "execution_count": 10,
     "metadata": {},
     "output_type": "execute_result"
    }
   ],
   "source": [
    "dataset = dataset[[\"PUBCHEM_CID\", \"PUBCHEM_EXT_DATASOURCE_SMILES\", \"Label\", \"Group\", \"AID\"]]\n",
    "dataset.columns = [\"CID\", \"SMILES\", \"Label\", \"Group\", \"AID\"]\n",
    "dataset"
   ]
  },
  {
   "cell_type": "code",
   "execution_count": 11,
   "id": "9c89ab36-468e-4431-8e06-cd6ee855fd88",
   "metadata": {},
   "outputs": [
    {
     "data": {
      "text/plain": [
       "Group\n",
       "strong      1513\n",
       "weak         940\n",
       "moderate     189\n",
       "inactive       1\n",
       "Name: count, dtype: int64"
      ]
     },
     "execution_count": 11,
     "metadata": {},
     "output_type": "execute_result"
    }
   ],
   "source": [
    "dataset.Group.value_counts()"
   ]
  },
  {
   "cell_type": "code",
   "execution_count": 15,
   "id": "fa98a78f-58f8-4e52-a316-c78da375bf22",
   "metadata": {},
   "outputs": [
    {
     "name": "stdout",
     "output_type": "stream",
     "text": [
      "before (2643, 5)\n",
      "2127 (7871, 17)\n",
      "2223 (99, 17)\n",
      "2123 (7871, 17)\n",
      "2222 (230, 17)\n",
      "after (18385, 5)\n"
     ]
    }
   ],
   "source": [
    "dfs = list()\n",
    "print(\"before\", dataset.shape)\n",
    "\n",
    "for aeid, atype in zip([2127, 2223, 2123, 2222], [\"Antagonist\", \"Antagonist\", \"Agonist\", \"Agonist\"]):\n",
    "    df = pd.read_csv(f\"assay_{aeid}.csv\")\n",
    "    df_smiles = pd.read_csv(f\"assay_{aeid}_smiles.csv\")\n",
    "    df[\"DTXSID\"] = df[\"DTXSID\"].str.replace(\"https://comptox.epa.gov/dashboard/chemical/details/\", \"\")\n",
    "    df = df.merge(df_smiles, on=\"DTXSID\", how=\"inner\")\n",
    "    print(aeid, df.shape)\n",
    "    df[\"AC50\"] *= 1000\n",
    "    df[\"Group\"] = \"inactive\"\n",
    "    for label, r0, r1 in LABELS:\n",
    "        if label != \"inactive\":\n",
    "            df.loc[(df[\"AC50\"] > r0) & \n",
    "            (df[\"AC50\"] <= r1) & \n",
    "            (df[\"HIT CALL\"] == \"Active\"), \"Group\"] = label\n",
    "    df[\"Label\"] = \"Unknown\"\n",
    "    df.loc[(df[\"HIT CALL\"] == \"Active\"), \"Label\"] = \"Activator\" if atype == \"Agonist\" else \"Inhibitor\"\n",
    "    df[\"AID\"] = aeid\n",
    "    df[\"CID\"] = df[\"DTXSID\"]\n",
    "    df = df[['CID', 'SMILES', 'PREFERRED NAME', 'Label', 'Group', 'AID']]\n",
    "    dfs.append((aeid, df.copy()))\n",
    "\n",
    "for aeid, df in dfs:\n",
    "    # train 2127 2123\n",
    "    if aeid in (2127, 2123):\n",
    "        del df[\"PREFERRED NAME\"]\n",
    "        dataset = pd.concat([dataset, df])\n",
    "    else:\n",
    "        df = df[['PREFERRED NAME', 'SMILES']]\n",
    "        df.columns = [\"name\", \"smiles\"]\n",
    "        df.to_csv(f\"inference/{aeid}.csv\")\n",
    "\n",
    "print(\"after\", dataset.shape)"
   ]
  },
  {
   "cell_type": "code",
   "execution_count": null,
   "id": "d2d363c5-ecc1-43c4-92db-09bcce4070b8",
   "metadata": {},
   "outputs": [],
   "source": [
    "new_dataset = list()\n",
    "ds = dataset.copy()\n",
    "for cid, grp in ds.groupby(\"CID\"):\n",
    "    # if cid == \"DTXSID0048686\":\n",
    "    #     print(grp)\n",
    "    #     break\n",
    "    \n",
    "    if len(grp) == 1:\n",
    "        new_dataset.append(grp.iloc[0].to_dict())\n",
    "    else:\n",
    "        if any(grp.Label != \"Unknown\"):\n",
    "            new_label = grp[grp.Label != \"Unknown\"][\"Label\"].mode().values[0]\n",
    "        else:\n",
    "            new_label = \"Unknown\"\n",
    "        grp.Label = new_label\n",
    "\n",
    "        if any(grp.Group != \"inactive\"):\n",
    "            new_group = grp[grp.Group != \"inactive\"][\"Group\"].mode().values[0]\n",
    "        else:\n",
    "            new_group = \"inactive\"\n",
    "        grp.Group = new_group\n",
    "\n",
    "        new_dataset.append(grp.iloc[0].to_dict())\n",
    "        print(f\"{cid} new label\", new_label, \"new group\", new_group)\n",
    "\n",
    "print(\"before\", dataset.shape)\n",
    "dataset = pd.DataFrame(new_dataset)\n",
    "print(\"after\", dataset.shape)"
   ]
  },
  {
   "cell_type": "code",
   "execution_count": 17,
   "id": "ae9022ce-5b9f-4c9f-93e5-6dc95766249e",
   "metadata": {},
   "outputs": [
    {
     "data": {
      "text/plain": [
       "0"
      ]
     },
     "execution_count": 17,
     "metadata": {},
     "output_type": "execute_result"
    }
   ],
   "source": [
    "dataset[\"CID\"].duplicated().sum()"
   ]
  },
  {
   "cell_type": "code",
   "execution_count": 18,
   "id": "7fc21245-1fab-439f-82c0-2204b6a4892e",
   "metadata": {},
   "outputs": [],
   "source": [
    "dataset.to_csv(\"dataset.csv\")"
   ]
  },
  {
   "cell_type": "markdown",
   "id": "7b717399-f758-4d27-a4e2-a479dfd5e5d0",
   "metadata": {},
   "source": [
    "# Prepare for train"
   ]
  },
  {
   "cell_type": "code",
   "execution_count": 19,
   "id": "52e69972-5353-4293-8a07-043c236b531e",
   "metadata": {},
   "outputs": [
    {
     "name": "stderr",
     "output_type": "stream",
     "text": [
      " 18%|█▊        | 1706/9541 [00:00<00:02, 3348.80it/s][20:10:32] Can't kekulize mol.  Unkekulized atoms: 1 2 3 4 5\n",
      " 23%|██▎       | 2161/9541 [00:00<00:01, 3751.15it/s][20:10:32] Explicit valence for atom # 0 Cl, 2, is greater than permitted\n",
      " 32%|███▏      | 3042/9541 [00:00<00:01, 4106.13it/s][20:10:33] Can't kekulize mol.  Unkekulized atoms: 3 4 5 6 7\n",
      " 41%|████      | 3909/9541 [00:01<00:01, 4225.35it/s][20:10:33] Can't kekulize mol.  Unkekulized atoms: 3 4 5 6 7\n",
      " 73%|███████▎  | 6963/9541 [00:01<00:00, 4275.37it/s][20:10:34] Can't kekulize mol.  Unkekulized atoms: 1 2 3 4 5\n",
      " 77%|███████▋  | 7391/9541 [00:01<00:00, 4188.38it/s][20:10:34] Can't kekulize mol.  Unkekulized atoms: 3 4 5 6 7\n",
      " 82%|████████▏ | 7811/9541 [00:01<00:00, 4147.35it/s][20:10:34] Can't kekulize mol.  Unkekulized atoms: 1 2 3 4 5\n",
      " 86%|████████▋ | 8247/9541 [00:02<00:00, 4209.00it/s][20:10:34] WARNING: not removing hydrogen atom without neighbors\n",
      " 91%|█████████ | 8669/9541 [00:02<00:00, 4168.44it/s][20:10:34] Can't kekulize mol.  Unkekulized atoms: 1 2 3 4 5\n",
      "[20:10:34] Explicit valence for atom # 6 O, 3, is greater than permitted\n",
      " 95%|█████████▌| 9087/9541 [00:02<00:00, 4164.43it/s][20:10:34] Explicit valence for atom # 3 Si, 8, is greater than permitted\n",
      "[20:10:34] Explicit valence for atom # 0 Cl, 2, is greater than permitted\n",
      "100%|██████████| 9541/9541 [00:02<00:00, 4066.52it/s]\n"
     ]
    }
   ],
   "source": [
    "fingerprints = dict()\n",
    "bad_smiles = list()\n",
    "\n",
    "for index, row in tqdm(dataset.iterrows(), total=dataset.shape[0]):\n",
    "    try:\n",
    "        mol = Chem.MolFromSmiles(row[\"SMILES\"])\n",
    "        fp = AllChem.GetMorganFingerprintAsBitVect(mol, 2, nBits=2048)\n",
    "        arr = np.zeros((1,))\n",
    "        DataStructs.ConvertToNumpyArray(fp, arr)\n",
    "        fingerprints[index] = arr\n",
    "    except Exception as e:\n",
    "        bad_smiles.append(index)"
   ]
  },
  {
   "cell_type": "code",
   "execution_count": 20,
   "id": "a0f37b0e-8da4-4c9f-9eb8-890adc489b1c",
   "metadata": {},
   "outputs": [
    {
     "data": {
      "text/plain": [
       "array([0., 0., 0., 0., 0., 0., 0., 0., 0., 0., 0., 0., 0., 0., 0., 0., 0.,\n",
       "       0., 0., 0., 0., 0., 0., 0., 0., 0., 0., 0., 0., 0., 0., 0., 0., 0.,\n",
       "       0., 0., 0., 0., 0., 0., 0., 0., 0., 0., 0., 0., 0., 0., 0., 0., 0.,\n",
       "       0., 0., 0., 0., 0., 0., 0., 0., 0., 0., 0., 0., 0., 0., 0., 0., 0.,\n",
       "       0., 0., 0., 0., 0., 0., 0., 0., 0., 0., 0., 0., 1., 0., 0., 0., 0.,\n",
       "       0., 0., 0., 0., 0., 1., 0., 0., 0., 0., 0., 0., 0., 0., 0.])"
      ]
     },
     "execution_count": 20,
     "metadata": {},
     "output_type": "execute_result"
    }
   ],
   "source": [
    "fingerprints[0][:100]"
   ]
  },
  {
   "cell_type": "code",
   "execution_count": 21,
   "id": "89479aa4-f277-4b83-870e-c982de58ecdf",
   "metadata": {},
   "outputs": [
    {
     "data": {
      "text/plain": [
       "(9253, 288)"
      ]
     },
     "execution_count": 21,
     "metadata": {},
     "output_type": "execute_result"
    }
   ],
   "source": [
    "len(fingerprints), len(bad_smiles)"
   ]
  },
  {
   "cell_type": "code",
   "execution_count": 22,
   "id": "6f768619-273c-4f2a-bab9-c8d3c5e1458b",
   "metadata": {},
   "outputs": [
    {
     "data": {
      "text/plain": [
       "(9253, 5)"
      ]
     },
     "execution_count": 22,
     "metadata": {},
     "output_type": "execute_result"
    }
   ],
   "source": [
    "dataset = dataset[~dataset.index.isin(bad_smiles)]\n",
    "dataset.shape"
   ]
  },
  {
   "cell_type": "code",
   "execution_count": null,
   "id": "4d0e06a1-61e6-4ae9-a463-ed837ade4a94",
   "metadata": {},
   "outputs": [],
   "source": [
    "X = np.array(list(fingerprints.values()))\n",
    "y = dataset.loc[fingerprints.keys(), \"Group\"].values\n",
    "print(X.shape, y.shape)"
   ]
  },
  {
   "cell_type": "code",
   "execution_count": null,
   "id": "13ff9ac7-1990-4dba-a9ee-3b629f6dd7de",
   "metadata": {},
   "outputs": [],
   "source": [
    "label_dict = {v: k for k, v in enumerate(np.unique(y))}\n",
    "print(label_dict)"
   ]
  },
  {
   "cell_type": "code",
   "execution_count": null,
   "id": "8d53736d-a6b7-45ae-b2a5-c278f55e09f2",
   "metadata": {},
   "outputs": [],
   "source": [
    "y = keras.utils.to_categorical([label_dict[v] for v in y.tolist()], num_classes=len(label_dict))"
   ]
  },
  {
   "cell_type": "code",
   "execution_count": null,
   "id": "318adc08-4b02-4575-9392-3b681270ffdd",
   "metadata": {},
   "outputs": [],
   "source": [
    "print(pd.DataFrame(y).value_counts())"
   ]
  },
  {
   "cell_type": "code",
   "execution_count": null,
   "id": "1379ee36-97fd-4585-831b-7753c69d9bcf",
   "metadata": {},
   "outputs": [],
   "source": [
    "X_train, X_test, y_train, y_test = train_test_split(X, y, test_size=0.2, random_state=42)"
   ]
  },
  {
   "cell_type": "code",
   "execution_count": null,
   "id": "9b0a0dd0-4713-4b7c-b9a3-8b6ba522888e",
   "metadata": {},
   "outputs": [],
   "source": [
    "model = Sequential()\n",
    "model.add(Conv1D(32, 16, activation='relu', input_shape=(2048, 1)))\n",
    "model.add(MaxPool1D())\n",
    "model.add(Conv1D(64, 32, activation='relu'))\n",
    "model.add(MaxPool1D())\n",
    "model.add(Conv1D(128, 16, activation='relu'))\n",
    "model.add(Flatten())\n",
    "model.add(Dense(units=1024, activation='relu'))\n",
    "model.add(Dropout(0.2))\n",
    "model.add(Dense(units=512, activation='relu'))\n",
    "model.add(Dense(units=len(label_dict), activation='softmax'))"
   ]
  },
  {
   "cell_type": "code",
   "execution_count": null,
   "id": "a98d672a-cf1d-4778-a0e0-81f976a546f3",
   "metadata": {},
   "outputs": [],
   "source": [
    "model.compile(loss=tf.keras.losses.CategoricalCrossentropy(from_logits=False), metrics=['accuracy'],\n",
    "                  optimizer=tf.keras.optimizers.SGD(learning_rate=0.01))"
   ]
  },
  {
   "cell_type": "code",
   "execution_count": null,
   "id": "d054bb05-507a-4be2-9151-586be829640d",
   "metadata": {},
   "outputs": [],
   "source": [
    "callbacks = [\n",
    "    keras.callbacks.EarlyStopping(patience=3, monitor=\"val_accuracy\"),\n",
    "    keras.callbacks.ModelCheckpoint(filepath='models/model_no_oversample.{epoch:02d}-{val_loss:.2f}.keras', save_best_only=True),\n",
    "    keras.callbacks.TensorBoard(log_dir=f'./tensorboard/no_oversample_{datetime.now()}'),\n",
    "    keras.callbacks.ReduceLROnPlateau(monitor='val_loss', factor=0.2, patience=5, min_lr=0.0001)\n",
    "]"
   ]
  },
  {
   "cell_type": "code",
   "execution_count": null,
   "id": "05e630ff-d813-4f3e-bccb-896dceab0966",
   "metadata": {},
   "outputs": [],
   "source": [
    "history = model.fit(\n",
    "    X_train, y_train, epochs=25, verbose=1, validation_data=(X_test, y_test), callbacks=callbacks\n",
    ")"
   ]
  },
  {
   "cell_type": "code",
   "execution_count": null,
   "id": "a81f5ee2-7b4b-42e9-a062-0b9fdc550d9c",
   "metadata": {},
   "outputs": [],
   "source": [
    "plt.plot(history.history[\"accuracy\"], label='accuracy')\n",
    "plt.plot(history.history[\"val_accuracy\"], label='val_accuracy')\n",
    "plt.plot(history.history[\"loss\"], label='loss')\n",
    "\n",
    "plt.xlabel('Epoch')\n",
    "plt.ylabel('Accuracy')\n",
    "plt.ylim([0.0, 1])\n",
    "plt.legend(loc='lower right')\n",
    "\n",
    "vacc = max(history.history[\"val_accuracy\"])\n",
    "acc = max(history.history[\"accuracy\"])\n",
    "print(acc, vacc)"
   ]
  },
  {
   "cell_type": "code",
   "execution_count": null,
   "id": "c9ea2b1c-c29a-4ee0-9653-497179fea8b8",
   "metadata": {},
   "outputs": [],
   "source": [
    "model.summary()"
   ]
  },
  {
   "cell_type": "code",
   "execution_count": null,
   "id": "18bbc81f-983d-4885-9b8d-5bf204230b20",
   "metadata": {},
   "outputs": [],
   "source": [
    "preds = model.predict(X_test)\n",
    "preds = np.argmax(tf.nn.softmax(preds), axis=1)\n",
    "preds"
   ]
  },
  {
   "cell_type": "code",
   "execution_count": null,
   "id": "62548503-ab40-40ea-848b-fc2d93285f81",
   "metadata": {},
   "outputs": [],
   "source": [
    "labels = np.argmax(y_test, axis=1)\n",
    "labels"
   ]
  },
  {
   "cell_type": "code",
   "execution_count": null,
   "id": "800907db-4dd8-4229-bf75-675a428b78af",
   "metadata": {},
   "outputs": [],
   "source": [
    "print(classification_report(labels, preds, target_names=label_dict.keys()))"
   ]
  },
  {
   "cell_type": "code",
   "execution_count": null,
   "id": "925ee338-c234-4424-bc1a-4846c9d98cd1",
   "metadata": {},
   "outputs": [],
   "source": [
    "X = np.array(list(fingerprints.values()))\n",
    "y = dataset.loc[fingerprints.keys(), \"Group\"].values\n",
    "print(X.shape, y.shape)"
   ]
  },
  {
   "cell_type": "code",
   "execution_count": null,
   "id": "3b0e32ee-bfc0-447b-a792-39687770f246",
   "metadata": {},
   "outputs": [],
   "source": [
    "label_dict = {v: k for k, v in enumerate(np.unique(y))}\n",
    "print(label_dict)"
   ]
  },
  {
   "cell_type": "code",
   "execution_count": null,
   "id": "9a96c6ef-7ee4-4bf0-9e11-2648fd65f076",
   "metadata": {},
   "outputs": [],
   "source": [
    "y = keras.utils.to_categorical([label_dict[v] for v in y.tolist()], num_classes=len(label_dict))"
   ]
  },
  {
   "cell_type": "code",
   "execution_count": null,
   "id": "81fa5bcb-4d54-4d9a-a7aa-e702993b889c",
   "metadata": {},
   "outputs": [],
   "source": [
    "print(pd.DataFrame(y).value_counts())"
   ]
  },
  {
   "cell_type": "code",
   "execution_count": null,
   "id": "bf7378ef-7563-48e0-8a47-e1e461afad9b",
   "metadata": {},
   "outputs": [],
   "source": [
    "print(\"start oversample\", X.shape, y.shape)\n",
    "    \n",
    "with parallel_backend('threading', n_jobs=12):\n",
    "    oversample = imblearn.over_sampling.SMOTE(k_neighbors=2)\n",
    "    X_oversampled, y_oversampled = oversample.fit_resample(X, y)\n",
    "\n",
    "X_oversampled = X_oversampled.reshape(-1, 2048, 1)\n",
    "y_oversampled = y_oversampled.reshape(-1, len(label_dict))\n",
    "\n",
    "print(\"end oversample\", X_oversampled.shape, y_oversampled.shape)\n",
    "\n",
    "X_train, X_test, y_train, y_test = train_test_split(X_oversampled, y_oversampled, test_size=0.2, random_state=42)"
   ]
  },
  {
   "cell_type": "code",
   "execution_count": null,
   "id": "b93bfc3a-7775-4e0c-bcde-f4bd0de372a9",
   "metadata": {},
   "outputs": [],
   "source": [
    "model = Sequential()\n",
    "model.add(Conv1D(32, 16, activation='relu', input_shape=(2048, 1)))\n",
    "model.add(MaxPool1D())\n",
    "model.add(Conv1D(64, 32, activation='relu'))\n",
    "model.add(MaxPool1D())\n",
    "model.add(Conv1D(128, 16, activation='relu'))\n",
    "model.add(Flatten())\n",
    "model.add(Dense(units=1024, activation='relu'))\n",
    "model.add(Dropout(0.2))\n",
    "model.add(Dense(units=512, activation='relu'))\n",
    "model.add(Dense(units=len(label_dict), activation='softmax'))"
   ]
  },
  {
   "cell_type": "code",
   "execution_count": null,
   "id": "ba05e043-c302-43d2-ae3c-5ae740f30c9b",
   "metadata": {},
   "outputs": [],
   "source": [
    "model.compile(loss=tf.keras.losses.CategoricalCrossentropy(from_logits=False), metrics=['accuracy'],\n",
    "                  optimizer=tf.keras.optimizers.SGD(learning_rate=0.01))"
   ]
  },
  {
   "cell_type": "code",
   "execution_count": null,
   "id": "77acf442-6cd6-4d7b-8178-6d5bbfc0966c",
   "metadata": {},
   "outputs": [],
   "source": [
    "callbacks = [\n",
    "    keras.callbacks.EarlyStopping(patience=3, monitor=\"val_accuracy\"),\n",
    "    keras.callbacks.ModelCheckpoint(filepath='models/model_with_oversample.{epoch:02d}-{val_loss:.2f}.keras', save_best_only=True),\n",
    "    keras.callbacks.TensorBoard(log_dir=f'./tensorboard/with_oversample_{datetime.now()}'),\n",
    "    keras.callbacks.ReduceLROnPlateau(monitor='val_loss', factor=0.2, patience=5, min_lr=0.0001)\n",
    "]"
   ]
  },
  {
   "cell_type": "code",
   "execution_count": null,
   "id": "73e8d3c1-ce26-42d2-8c0f-13a1a2e071c3",
   "metadata": {},
   "outputs": [],
   "source": [
    "model.save(\"model.keras\")"
   ]
  },
  {
   "cell_type": "code",
   "execution_count": null,
   "id": "69e45318-af34-4fcd-80c0-80677968103d",
   "metadata": {},
   "outputs": [],
   "source": [
    "history = model.fit(\n",
    "    X_train, y_train, epochs=25, verbose=1, validation_data=(X_test, y_test), callbacks=callbacks\n",
    ")"
   ]
  },
  {
   "cell_type": "code",
   "execution_count": null,
   "id": "adbb89bd-2bf8-4cf4-aff0-0b06e2b73d44",
   "metadata": {},
   "outputs": [],
   "source": [
    "plt.plot(history.history[\"accuracy\"], label='accuracy')\n",
    "plt.plot(history.history[\"val_accuracy\"], label='val_accuracy')\n",
    "plt.plot(history.history[\"loss\"], label='loss')\n",
    "\n",
    "plt.xlabel('Epoch')\n",
    "plt.ylabel('Accuracy')\n",
    "plt.ylim([0.0, 1])\n",
    "plt.legend(loc='lower right')\n",
    "\n",
    "vacc = max(history.history[\"val_accuracy\"])\n",
    "acc = max(history.history[\"accuracy\"])\n",
    "print(acc, vacc)"
   ]
  },
  {
   "cell_type": "code",
   "execution_count": null,
   "id": "384922ec-cb42-42c2-8f25-1ed5c4f7b5f8",
   "metadata": {},
   "outputs": [],
   "source": [
    "model.summary()"
   ]
  },
  {
   "cell_type": "code",
   "execution_count": null,
   "id": "2dc59d50-d788-43e7-81c9-1ee1764276b8",
   "metadata": {},
   "outputs": [],
   "source": [
    "preds = model.predict(X_test)\n",
    "preds = np.argmax(tf.nn.softmax(preds), axis=1)\n",
    "preds"
   ]
  },
  {
   "cell_type": "code",
   "execution_count": null,
   "id": "c5730927-e59e-4f58-a81e-ddebcc5c7668",
   "metadata": {},
   "outputs": [],
   "source": [
    "labels = np.argmax(y_test, axis=1)\n",
    "labels"
   ]
  },
  {
   "cell_type": "code",
   "execution_count": null,
   "id": "5c7f97e0-0eac-4c9d-9e27-b0d44d4cfa3d",
   "metadata": {
    "scrolled": true
   },
   "outputs": [],
   "source": [
    "print(classification_report(labels, preds, target_names=label_dict.keys()))"
   ]
  },
  {
   "cell_type": "code",
   "execution_count": null,
   "id": "73347053-c852-45ab-b0fc-dc6a01c0157b",
   "metadata": {},
   "outputs": [],
   "source": [
    "model = keras.models.load_model(\"models/model_with_oversample.18-0.19.keras\")"
   ]
  },
  {
   "cell_type": "code",
   "execution_count": null,
   "id": "5c20ceba-e950-438a-b9f1-adcaf9d2bdae",
   "metadata": {},
   "outputs": [],
   "source": [
    "for f in os.listdir(\"inference\"):\n",
    "    if \".csv\" not in f:\n",
    "        continue\n",
    "    print(f)\n",
    "    df = pd.read_csv(f\"inference/{f}\")\n",
    "    if \"Total Assays\" in df.columns:\n",
    "        df = df.loc[:, :\"Total Assays\"]\n",
    "    fingerprints_inf = dict()\n",
    "    bad_smiles = list()\n",
    "    \n",
    "    for index, row in tqdm(df.iterrows(), total=df.shape[0]):\n",
    "        try:\n",
    "            # print(row[\"smiles\"])\n",
    "            mol = Chem.MolFromSmiles(row[\"smiles\"])\n",
    "            fp = AllChem.GetMorganFingerprintAsBitVect(mol, 2, nBits=2048)\n",
    "            arr = np.zeros((1,))\n",
    "            DataStructs.ConvertToNumpyArray(fp, arr)\n",
    "            fingerprints_inf[index] = arr\n",
    "        except Exception as e:\n",
    "            bad_smiles.append(index)\n",
    "\n",
    "    print(\"bad smiles\", bad_smiles)\n",
    "    df = df[~df.index.isin(bad_smiles)]\n",
    "    X = np.array(list(fingerprints_inf.values())).reshape(-1, 2048, 1)\n",
    "\n",
    "    preds = model.predict(X, verbose=True)\n",
    "    preds = np.argmax(tf.nn.softmax(preds), axis=1)\n",
    "    label_dict_inv = {v: k for k, v in label_dict.items()}\n",
    "    preds = [label_dict_inv[v] for v in preds.tolist()]\n",
    "    df[\"predictions_model1\"] = preds\n",
    "    df.to_csv(f\"inference/{f}\", index=False)\n"
   ]
  },
  {
   "cell_type": "markdown",
   "id": "b5ce56de-7f33-45b8-97f2-de80822d557c",
   "metadata": {},
   "source": [
    "# Train (with oversample, with agonist/antagonist)"
   ]
  },
  {
   "cell_type": "code",
   "execution_count": 23,
   "id": "1747823d-bd04-47f8-8a24-6148dedfcb66",
   "metadata": {},
   "outputs": [],
   "source": [
    "combined_labels = (dataset[\"Label\"] + \"_\" + dataset[\"Group\"])\n",
    "combined_labels = pd.DataFrame({\"Label\": combined_labels.values}, index=combined_labels.index)\n",
    "combined_labels = combined_labels.groupby(\"Label\").filter(lambda grp: len(grp) > 1)\n",
    "combined_labels.loc[combined_labels.Label == \"Unknown_inactive\", \"Label\"] = \"Inactive\"\n",
    "combined_labels = combined_labels[~combined_labels.Label.str.contains(\"Unknown\")]"
   ]
  },
  {
   "cell_type": "code",
   "execution_count": 24,
   "id": "1c3f46cf-08ba-4aca-bcd1-2d7c9cf9ebc7",
   "metadata": {},
   "outputs": [
    {
     "data": {
      "text/plain": [
       "Label              \n",
       "Inactive               5543\n",
       "Inhibitor_very weak    1137\n",
       "Inhibitor_weak          991\n",
       "Inhibitor_strong        387\n",
       "Activator_strong        357\n",
       "Inhibitor_moderate       88\n",
       "Activator_weak           68\n",
       "Activator_very weak      65\n",
       "Activator_moderate       36\n",
       "Name: count, dtype: int64"
      ]
     },
     "execution_count": 24,
     "metadata": {},
     "output_type": "execute_result"
    }
   ],
   "source": [
    "combined_labels.value_counts()"
   ]
  },
  {
   "cell_type": "code",
   "execution_count": 25,
   "id": "3f419075-7238-4d27-b7bc-10985fdd9679",
   "metadata": {},
   "outputs": [
    {
     "name": "stdout",
     "output_type": "stream",
     "text": [
      "(8672, 2048) (8672,)\n"
     ]
    }
   ],
   "source": [
    "X = np.array([fingerprints.get(k) for k in combined_labels.index.tolist()])\n",
    "y = np.array(combined_labels.Label.values.tolist())\n",
    "print(X.shape, y.shape)"
   ]
  },
  {
   "cell_type": "code",
   "execution_count": 26,
   "id": "cc8a97df-12f0-4668-a774-93065c4f22f8",
   "metadata": {},
   "outputs": [
    {
     "name": "stdout",
     "output_type": "stream",
     "text": [
      "{'Activator_moderate': 0, 'Activator_strong': 1, 'Activator_very weak': 2, 'Activator_weak': 3, 'Inactive': 4, 'Inhibitor_moderate': 5, 'Inhibitor_strong': 6, 'Inhibitor_very weak': 7, 'Inhibitor_weak': 8}\n"
     ]
    }
   ],
   "source": [
    "label_dict = {v: k for k, v in enumerate(np.unique(y))}\n",
    "print(label_dict)"
   ]
  },
  {
   "cell_type": "code",
   "execution_count": 27,
   "id": "ecfdb925-b98a-43dd-ba6a-3f628e8a65c2",
   "metadata": {},
   "outputs": [],
   "source": [
    "y = keras.utils.to_categorical([label_dict[v] for v in y.tolist()], num_classes=len(label_dict))"
   ]
  },
  {
   "cell_type": "code",
   "execution_count": 28,
   "id": "fc8cde51-29e8-4b26-b3d4-e28f12218558",
   "metadata": {},
   "outputs": [
    {
     "name": "stdout",
     "output_type": "stream",
     "text": [
      "0    1    2    3    4    5    6    7    8  \n",
      "0.0  0.0  0.0  0.0  1.0  0.0  0.0  0.0  0.0    5543\n",
      "                    0.0  0.0  0.0  1.0  0.0    1137\n",
      "                                   0.0  1.0     991\n",
      "                              1.0  0.0  0.0     387\n",
      "     1.0  0.0  0.0  0.0  0.0  0.0  0.0  0.0     357\n",
      "     0.0  0.0  0.0  0.0  1.0  0.0  0.0  0.0      88\n",
      "               1.0  0.0  0.0  0.0  0.0  0.0      68\n",
      "          1.0  0.0  0.0  0.0  0.0  0.0  0.0      65\n",
      "1.0  0.0  0.0  0.0  0.0  0.0  0.0  0.0  0.0      36\n",
      "Name: count, dtype: int64\n"
     ]
    }
   ],
   "source": [
    "print(pd.DataFrame(y).value_counts())"
   ]
  },
  {
   "cell_type": "code",
   "execution_count": 29,
   "id": "d283d5fd-68d4-4d77-8124-9580fba1fedf",
   "metadata": {},
   "outputs": [
    {
     "name": "stdout",
     "output_type": "stream",
     "text": [
      "start oversample (8672, 2048) (8672, 9)\n",
      "end oversample (49887, 2048, 1) (49887, 9)\n"
     ]
    }
   ],
   "source": [
    "print(\"start oversample\", X.shape, y.shape)\n",
    "    \n",
    "with parallel_backend('threading', n_jobs=12):\n",
    "    oversample = imblearn.over_sampling.SMOTE(k_neighbors=2)\n",
    "    X_oversampled, y_oversampled = oversample.fit_resample(X, y)\n",
    "\n",
    "X_oversampled = X_oversampled.reshape(-1, 2048, 1)\n",
    "y_oversampled = y_oversampled.reshape(-1, len(label_dict))\n",
    "\n",
    "print(\"end oversample\", X_oversampled.shape, y_oversampled.shape)\n",
    "\n",
    "X_train, X_test, y_train, y_test = train_test_split(X_oversampled, y_oversampled, test_size=0.2, random_state=42)"
   ]
  },
  {
   "cell_type": "code",
   "execution_count": 30,
   "id": "be0ccb46-8987-460a-a3ed-b18ed9a32159",
   "metadata": {},
   "outputs": [
    {
     "name": "stderr",
     "output_type": "stream",
     "text": [
      "/home/milosevicn/miniconda3/envs/bio/lib/python3.12/site-packages/keras/src/layers/convolutional/base_conv.py:99: UserWarning: Do not pass an `input_shape`/`input_dim` argument to a layer. When using Sequential models, prefer using an `Input(shape)` object as the first layer in the model instead.\n",
      "  super().__init__(\n",
      "2024-12-10 20:10:36.259878: I external/local_xla/xla/stream_executor/cuda/cuda_executor.cc:998] successful NUMA node read from SysFS had negative value (-1), but there must be at least one NUMA node, so returning NUMA node zero. See more at https://github.com/torvalds/linux/blob/v6.0/Documentation/ABI/testing/sysfs-bus-pci#L344-L355\n",
      "2024-12-10 20:10:36.293096: I external/local_xla/xla/stream_executor/cuda/cuda_executor.cc:998] successful NUMA node read from SysFS had negative value (-1), but there must be at least one NUMA node, so returning NUMA node zero. See more at https://github.com/torvalds/linux/blob/v6.0/Documentation/ABI/testing/sysfs-bus-pci#L344-L355\n",
      "2024-12-10 20:10:36.293306: I external/local_xla/xla/stream_executor/cuda/cuda_executor.cc:998] successful NUMA node read from SysFS had negative value (-1), but there must be at least one NUMA node, so returning NUMA node zero. See more at https://github.com/torvalds/linux/blob/v6.0/Documentation/ABI/testing/sysfs-bus-pci#L344-L355\n",
      "2024-12-10 20:10:36.293891: I external/local_xla/xla/stream_executor/cuda/cuda_executor.cc:998] successful NUMA node read from SysFS had negative value (-1), but there must be at least one NUMA node, so returning NUMA node zero. See more at https://github.com/torvalds/linux/blob/v6.0/Documentation/ABI/testing/sysfs-bus-pci#L344-L355\n",
      "2024-12-10 20:10:36.294047: I external/local_xla/xla/stream_executor/cuda/cuda_executor.cc:998] successful NUMA node read from SysFS had negative value (-1), but there must be at least one NUMA node, so returning NUMA node zero. See more at https://github.com/torvalds/linux/blob/v6.0/Documentation/ABI/testing/sysfs-bus-pci#L344-L355\n",
      "2024-12-10 20:10:36.294190: I external/local_xla/xla/stream_executor/cuda/cuda_executor.cc:998] successful NUMA node read from SysFS had negative value (-1), but there must be at least one NUMA node, so returning NUMA node zero. See more at https://github.com/torvalds/linux/blob/v6.0/Documentation/ABI/testing/sysfs-bus-pci#L344-L355\n",
      "2024-12-10 20:10:36.403937: I external/local_xla/xla/stream_executor/cuda/cuda_executor.cc:998] successful NUMA node read from SysFS had negative value (-1), but there must be at least one NUMA node, so returning NUMA node zero. See more at https://github.com/torvalds/linux/blob/v6.0/Documentation/ABI/testing/sysfs-bus-pci#L344-L355\n",
      "2024-12-10 20:10:36.404143: I external/local_xla/xla/stream_executor/cuda/cuda_executor.cc:998] successful NUMA node read from SysFS had negative value (-1), but there must be at least one NUMA node, so returning NUMA node zero. See more at https://github.com/torvalds/linux/blob/v6.0/Documentation/ABI/testing/sysfs-bus-pci#L344-L355\n",
      "2024-12-10 20:10:36.404233: W tensorflow/core/common_runtime/gpu/gpu_bfc_allocator.cc:47] Overriding orig_value setting because the TF_FORCE_GPU_ALLOW_GROWTH environment variable is set. Original config value was 0.\n",
      "2024-12-10 20:10:36.404298: I external/local_xla/xla/stream_executor/cuda/cuda_executor.cc:998] successful NUMA node read from SysFS had negative value (-1), but there must be at least one NUMA node, so returning NUMA node zero. See more at https://github.com/torvalds/linux/blob/v6.0/Documentation/ABI/testing/sysfs-bus-pci#L344-L355\n",
      "2024-12-10 20:10:36.404393: I tensorflow/core/common_runtime/gpu/gpu_device.cc:1928] Created device /job:localhost/replica:0/task:0/device:GPU:0 with 6811 MB memory:  -> device: 0, name: NVIDIA GeForce RTX 2070 SUPER, pci bus id: 0000:01:00.0, compute capability: 7.5\n"
     ]
    }
   ],
   "source": [
    "model = Sequential()\n",
    "model.add(Conv1D(32, 16, activation='relu', input_shape=(2048, 1)))\n",
    "model.add(MaxPool1D())\n",
    "model.add(Conv1D(64, 32, activation='relu'))\n",
    "model.add(MaxPool1D())\n",
    "model.add(Conv1D(128, 16, activation='relu'))\n",
    "model.add(Flatten())\n",
    "model.add(Dense(units=1024, activation='relu'))\n",
    "model.add(Dropout(0.05))\n",
    "model.add(Dense(units=512, activation='relu'))\n",
    "model.add(Dense(units=len(label_dict), activation='softmax'))"
   ]
  },
  {
   "cell_type": "code",
   "execution_count": 31,
   "id": "bc862e2c-fdb4-436c-b4ce-5ebe19701435",
   "metadata": {},
   "outputs": [],
   "source": [
    "model.compile(loss=tf.keras.losses.CategoricalCrossentropy(from_logits=False), metrics=['accuracy'],\n",
    "                  optimizer=tf.keras.optimizers.SGD(learning_rate=0.01))"
   ]
  },
  {
   "cell_type": "code",
   "execution_count": 32,
   "id": "a6ee7eae-ce8a-415c-bb47-72c1c92d447d",
   "metadata": {},
   "outputs": [],
   "source": [
    "callbacks = [\n",
    "    keras.callbacks.EarlyStopping(patience=10, monitor=\"val_accuracy\"),\n",
    "    keras.callbacks.ModelCheckpoint(filepath='models/{epoch:03d}_model_with_oversample_ago.{val_loss:.2f}.weights.h5', \n",
    "                                    save_best_only=True,\n",
    "                                    save_weights_only=True),\n",
    "    keras.callbacks.TensorBoard(log_dir=f'./tensorboard/with_oversample_agonist_antagonist_{datetime.now()}'),\n",
    "    keras.callbacks.ReduceLROnPlateau(monitor='val_accuracy', factor=0.2, patience=3, min_lr=0.0001)\n",
    "]"
   ]
  },
  {
   "cell_type": "code",
   "execution_count": null,
   "id": "37a96d68-9573-41a7-ad46-3ce07cc5640e",
   "metadata": {},
   "outputs": [],
   "source": [
    "history = model.fit(\n",
    "    X_train, y_train, epochs=50, verbose=1, validation_data=(X_test, y_test), callbacks=callbacks\n",
    ")"
   ]
  },
  {
   "cell_type": "code",
   "execution_count": null,
   "id": "a378b188-cdf8-49c0-aaac-e48e1c006de7",
   "metadata": {},
   "outputs": [],
   "source": [
    "plt.plot(history.history[\"accuracy\"], label='accuracy')\n",
    "plt.plot(history.history[\"val_accuracy\"], label='val_accuracy')\n",
    "plt.plot(history.history[\"loss\"], label='loss')\n",
    "\n",
    "plt.xlabel('Epoch')\n",
    "plt.ylabel('Accuracy')\n",
    "plt.ylim([0.0, 1])\n",
    "plt.legend(loc='lower right')\n",
    "\n",
    "vacc = max(history.history[\"val_accuracy\"])\n",
    "acc = max(history.history[\"accuracy\"])\n",
    "print(acc, vacc)"
   ]
  },
  {
   "cell_type": "code",
   "execution_count": null,
   "id": "f466dd49-54b6-4ed8-996a-2048ffa19a8f",
   "metadata": {},
   "outputs": [],
   "source": [
    "# !pip install plotly_express\n",
    "import plotly_express as px\n",
    "\n",
    "hist = pd.DataFrame(history.history)\n",
    "hist[\"epoch\"] = hist.index\n",
    "\n",
    "px.line(hist, x=\"epoch\", y=[\"accuracy\", \"val_accuracy\", \"loss\"], \n",
    "        labels={'epoch': 'epoch', 'value':'', 'variable': ''})"
   ]
  },
  {
   "cell_type": "code",
   "execution_count": 34,
   "id": "314222f3-3d04-4ea4-a7dd-b8f8839a39f6",
   "metadata": {},
   "outputs": [
    {
     "name": "stderr",
     "output_type": "stream",
     "text": [
      "2024-12-10 20:10:45.297731: W external/local_tsl/tsl/framework/cpu_allocator_impl.cc:83] Allocation of 250085376 exceeds 10% of free system memory.\n"
     ]
    },
    {
     "data": {
      "text/html": [
       "<pre style=\"white-space:pre;overflow-x:auto;line-height:normal;font-family:Menlo,'DejaVu Sans Mono',consolas,'Courier New',monospace\"><span style=\"font-weight: bold\">Model: \"sequential\"</span>\n",
       "</pre>\n"
      ],
      "text/plain": [
       "\u001b[1mModel: \"sequential\"\u001b[0m\n"
      ]
     },
     "metadata": {},
     "output_type": "display_data"
    },
    {
     "data": {
      "text/html": [
       "<pre style=\"white-space:pre;overflow-x:auto;line-height:normal;font-family:Menlo,'DejaVu Sans Mono',consolas,'Courier New',monospace\">┏━━━━━━━━━━━━━━━━━━━━━━━━━━━━━━━━━┳━━━━━━━━━━━━━━━━━━━━━━━━┳━━━━━━━━━━━━━━━┓\n",
       "┃<span style=\"font-weight: bold\"> Layer (type)                    </span>┃<span style=\"font-weight: bold\"> Output Shape           </span>┃<span style=\"font-weight: bold\">       Param # </span>┃\n",
       "┡━━━━━━━━━━━━━━━━━━━━━━━━━━━━━━━━━╇━━━━━━━━━━━━━━━━━━━━━━━━╇━━━━━━━━━━━━━━━┩\n",
       "│ conv1d (<span style=\"color: #0087ff; text-decoration-color: #0087ff\">Conv1D</span>)                 │ (<span style=\"color: #00d7ff; text-decoration-color: #00d7ff\">None</span>, <span style=\"color: #00af00; text-decoration-color: #00af00\">2033</span>, <span style=\"color: #00af00; text-decoration-color: #00af00\">32</span>)       │           <span style=\"color: #00af00; text-decoration-color: #00af00\">544</span> │\n",
       "├─────────────────────────────────┼────────────────────────┼───────────────┤\n",
       "│ max_pooling1d (<span style=\"color: #0087ff; text-decoration-color: #0087ff\">MaxPooling1D</span>)    │ (<span style=\"color: #00d7ff; text-decoration-color: #00d7ff\">None</span>, <span style=\"color: #00af00; text-decoration-color: #00af00\">1016</span>, <span style=\"color: #00af00; text-decoration-color: #00af00\">32</span>)       │             <span style=\"color: #00af00; text-decoration-color: #00af00\">0</span> │\n",
       "├─────────────────────────────────┼────────────────────────┼───────────────┤\n",
       "│ conv1d_1 (<span style=\"color: #0087ff; text-decoration-color: #0087ff\">Conv1D</span>)               │ (<span style=\"color: #00d7ff; text-decoration-color: #00d7ff\">None</span>, <span style=\"color: #00af00; text-decoration-color: #00af00\">985</span>, <span style=\"color: #00af00; text-decoration-color: #00af00\">64</span>)        │        <span style=\"color: #00af00; text-decoration-color: #00af00\">65,600</span> │\n",
       "├─────────────────────────────────┼────────────────────────┼───────────────┤\n",
       "│ max_pooling1d_1 (<span style=\"color: #0087ff; text-decoration-color: #0087ff\">MaxPooling1D</span>)  │ (<span style=\"color: #00d7ff; text-decoration-color: #00d7ff\">None</span>, <span style=\"color: #00af00; text-decoration-color: #00af00\">492</span>, <span style=\"color: #00af00; text-decoration-color: #00af00\">64</span>)        │             <span style=\"color: #00af00; text-decoration-color: #00af00\">0</span> │\n",
       "├─────────────────────────────────┼────────────────────────┼───────────────┤\n",
       "│ conv1d_2 (<span style=\"color: #0087ff; text-decoration-color: #0087ff\">Conv1D</span>)               │ (<span style=\"color: #00d7ff; text-decoration-color: #00d7ff\">None</span>, <span style=\"color: #00af00; text-decoration-color: #00af00\">477</span>, <span style=\"color: #00af00; text-decoration-color: #00af00\">128</span>)       │       <span style=\"color: #00af00; text-decoration-color: #00af00\">131,200</span> │\n",
       "├─────────────────────────────────┼────────────────────────┼───────────────┤\n",
       "│ flatten (<span style=\"color: #0087ff; text-decoration-color: #0087ff\">Flatten</span>)               │ (<span style=\"color: #00d7ff; text-decoration-color: #00d7ff\">None</span>, <span style=\"color: #00af00; text-decoration-color: #00af00\">61056</span>)          │             <span style=\"color: #00af00; text-decoration-color: #00af00\">0</span> │\n",
       "├─────────────────────────────────┼────────────────────────┼───────────────┤\n",
       "│ dense (<span style=\"color: #0087ff; text-decoration-color: #0087ff\">Dense</span>)                   │ (<span style=\"color: #00d7ff; text-decoration-color: #00d7ff\">None</span>, <span style=\"color: #00af00; text-decoration-color: #00af00\">1024</span>)           │    <span style=\"color: #00af00; text-decoration-color: #00af00\">62,522,368</span> │\n",
       "├─────────────────────────────────┼────────────────────────┼───────────────┤\n",
       "│ dropout (<span style=\"color: #0087ff; text-decoration-color: #0087ff\">Dropout</span>)               │ (<span style=\"color: #00d7ff; text-decoration-color: #00d7ff\">None</span>, <span style=\"color: #00af00; text-decoration-color: #00af00\">1024</span>)           │             <span style=\"color: #00af00; text-decoration-color: #00af00\">0</span> │\n",
       "├─────────────────────────────────┼────────────────────────┼───────────────┤\n",
       "│ dense_1 (<span style=\"color: #0087ff; text-decoration-color: #0087ff\">Dense</span>)                 │ (<span style=\"color: #00d7ff; text-decoration-color: #00d7ff\">None</span>, <span style=\"color: #00af00; text-decoration-color: #00af00\">512</span>)            │       <span style=\"color: #00af00; text-decoration-color: #00af00\">524,800</span> │\n",
       "├─────────────────────────────────┼────────────────────────┼───────────────┤\n",
       "│ dense_2 (<span style=\"color: #0087ff; text-decoration-color: #0087ff\">Dense</span>)                 │ (<span style=\"color: #00d7ff; text-decoration-color: #00d7ff\">None</span>, <span style=\"color: #00af00; text-decoration-color: #00af00\">9</span>)              │         <span style=\"color: #00af00; text-decoration-color: #00af00\">4,617</span> │\n",
       "└─────────────────────────────────┴────────────────────────┴───────────────┘\n",
       "</pre>\n"
      ],
      "text/plain": [
       "┏━━━━━━━━━━━━━━━━━━━━━━━━━━━━━━━━━┳━━━━━━━━━━━━━━━━━━━━━━━━┳━━━━━━━━━━━━━━━┓\n",
       "┃\u001b[1m \u001b[0m\u001b[1mLayer (type)                   \u001b[0m\u001b[1m \u001b[0m┃\u001b[1m \u001b[0m\u001b[1mOutput Shape          \u001b[0m\u001b[1m \u001b[0m┃\u001b[1m \u001b[0m\u001b[1m      Param #\u001b[0m\u001b[1m \u001b[0m┃\n",
       "┡━━━━━━━━━━━━━━━━━━━━━━━━━━━━━━━━━╇━━━━━━━━━━━━━━━━━━━━━━━━╇━━━━━━━━━━━━━━━┩\n",
       "│ conv1d (\u001b[38;5;33mConv1D\u001b[0m)                 │ (\u001b[38;5;45mNone\u001b[0m, \u001b[38;5;34m2033\u001b[0m, \u001b[38;5;34m32\u001b[0m)       │           \u001b[38;5;34m544\u001b[0m │\n",
       "├─────────────────────────────────┼────────────────────────┼───────────────┤\n",
       "│ max_pooling1d (\u001b[38;5;33mMaxPooling1D\u001b[0m)    │ (\u001b[38;5;45mNone\u001b[0m, \u001b[38;5;34m1016\u001b[0m, \u001b[38;5;34m32\u001b[0m)       │             \u001b[38;5;34m0\u001b[0m │\n",
       "├─────────────────────────────────┼────────────────────────┼───────────────┤\n",
       "│ conv1d_1 (\u001b[38;5;33mConv1D\u001b[0m)               │ (\u001b[38;5;45mNone\u001b[0m, \u001b[38;5;34m985\u001b[0m, \u001b[38;5;34m64\u001b[0m)        │        \u001b[38;5;34m65,600\u001b[0m │\n",
       "├─────────────────────────────────┼────────────────────────┼───────────────┤\n",
       "│ max_pooling1d_1 (\u001b[38;5;33mMaxPooling1D\u001b[0m)  │ (\u001b[38;5;45mNone\u001b[0m, \u001b[38;5;34m492\u001b[0m, \u001b[38;5;34m64\u001b[0m)        │             \u001b[38;5;34m0\u001b[0m │\n",
       "├─────────────────────────────────┼────────────────────────┼───────────────┤\n",
       "│ conv1d_2 (\u001b[38;5;33mConv1D\u001b[0m)               │ (\u001b[38;5;45mNone\u001b[0m, \u001b[38;5;34m477\u001b[0m, \u001b[38;5;34m128\u001b[0m)       │       \u001b[38;5;34m131,200\u001b[0m │\n",
       "├─────────────────────────────────┼────────────────────────┼───────────────┤\n",
       "│ flatten (\u001b[38;5;33mFlatten\u001b[0m)               │ (\u001b[38;5;45mNone\u001b[0m, \u001b[38;5;34m61056\u001b[0m)          │             \u001b[38;5;34m0\u001b[0m │\n",
       "├─────────────────────────────────┼────────────────────────┼───────────────┤\n",
       "│ dense (\u001b[38;5;33mDense\u001b[0m)                   │ (\u001b[38;5;45mNone\u001b[0m, \u001b[38;5;34m1024\u001b[0m)           │    \u001b[38;5;34m62,522,368\u001b[0m │\n",
       "├─────────────────────────────────┼────────────────────────┼───────────────┤\n",
       "│ dropout (\u001b[38;5;33mDropout\u001b[0m)               │ (\u001b[38;5;45mNone\u001b[0m, \u001b[38;5;34m1024\u001b[0m)           │             \u001b[38;5;34m0\u001b[0m │\n",
       "├─────────────────────────────────┼────────────────────────┼───────────────┤\n",
       "│ dense_1 (\u001b[38;5;33mDense\u001b[0m)                 │ (\u001b[38;5;45mNone\u001b[0m, \u001b[38;5;34m512\u001b[0m)            │       \u001b[38;5;34m524,800\u001b[0m │\n",
       "├─────────────────────────────────┼────────────────────────┼───────────────┤\n",
       "│ dense_2 (\u001b[38;5;33mDense\u001b[0m)                 │ (\u001b[38;5;45mNone\u001b[0m, \u001b[38;5;34m9\u001b[0m)              │         \u001b[38;5;34m4,617\u001b[0m │\n",
       "└─────────────────────────────────┴────────────────────────┴───────────────┘\n"
      ]
     },
     "metadata": {},
     "output_type": "display_data"
    },
    {
     "data": {
      "text/html": [
       "<pre style=\"white-space:pre;overflow-x:auto;line-height:normal;font-family:Menlo,'DejaVu Sans Mono',consolas,'Courier New',monospace\"><span style=\"font-weight: bold\"> Total params: </span><span style=\"color: #00af00; text-decoration-color: #00af00\">63,249,129</span> (241.28 MB)\n",
       "</pre>\n"
      ],
      "text/plain": [
       "\u001b[1m Total params: \u001b[0m\u001b[38;5;34m63,249,129\u001b[0m (241.28 MB)\n"
      ]
     },
     "metadata": {},
     "output_type": "display_data"
    },
    {
     "data": {
      "text/html": [
       "<pre style=\"white-space:pre;overflow-x:auto;line-height:normal;font-family:Menlo,'DejaVu Sans Mono',consolas,'Courier New',monospace\"><span style=\"font-weight: bold\"> Trainable params: </span><span style=\"color: #00af00; text-decoration-color: #00af00\">63,249,129</span> (241.28 MB)\n",
       "</pre>\n"
      ],
      "text/plain": [
       "\u001b[1m Trainable params: \u001b[0m\u001b[38;5;34m63,249,129\u001b[0m (241.28 MB)\n"
      ]
     },
     "metadata": {},
     "output_type": "display_data"
    },
    {
     "data": {
      "text/html": [
       "<pre style=\"white-space:pre;overflow-x:auto;line-height:normal;font-family:Menlo,'DejaVu Sans Mono',consolas,'Courier New',monospace\"><span style=\"font-weight: bold\"> Non-trainable params: </span><span style=\"color: #00af00; text-decoration-color: #00af00\">0</span> (0.00 B)\n",
       "</pre>\n"
      ],
      "text/plain": [
       "\u001b[1m Non-trainable params: \u001b[0m\u001b[38;5;34m0\u001b[0m (0.00 B)\n"
      ]
     },
     "metadata": {},
     "output_type": "display_data"
    }
   ],
   "source": [
    "model.load_weights(\"models/model_with_oversample_ago.13-0.08.weights.h5\")\n",
    "model.summary()"
   ]
  },
  {
   "cell_type": "code",
   "execution_count": 35,
   "id": "6f98b3b4-80c8-40ee-b378-2fd9bf007349",
   "metadata": {},
   "outputs": [
    {
     "name": "stderr",
     "output_type": "stream",
     "text": [
      "2024-12-10 20:10:45.853422: W external/local_tsl/tsl/framework/cpu_allocator_impl.cc:83] Allocation of 81739776 exceeds 10% of free system memory.\n",
      "2024-12-10 20:10:45.908474: W external/local_tsl/tsl/framework/cpu_allocator_impl.cc:83] Allocation of 81739776 exceeds 10% of free system memory.\n",
      "WARNING: All log messages before absl::InitializeLog() is called are written to STDERR\n",
      "I0000 00:00:1733857846.022179  425358 service.cc:145] XLA service 0x7f6f50da4e20 initialized for platform CUDA (this does not guarantee that XLA will be used). Devices:\n",
      "I0000 00:00:1733857846.022206  425358 service.cc:153]   StreamExecutor device (0): NVIDIA GeForce RTX 2070 SUPER, Compute Capability 7.5\n",
      "2024-12-10 20:10:46.030286: I tensorflow/compiler/mlir/tensorflow/utils/dump_mlir_util.cc:268] disabling MLIR crash reproducer, set env var `MLIR_CRASH_REPRODUCER_DIRECTORY` to enable.\n",
      "2024-12-10 20:10:46.067349: I external/local_xla/xla/stream_executor/cuda/cuda_dnn.cc:465] Loaded cuDNN version 8907\n"
     ]
    },
    {
     "name": "stdout",
     "output_type": "stream",
     "text": [
      "\u001b[1m105/312\u001b[0m \u001b[32m━━━━━━\u001b[0m\u001b[37m━━━━━━━━━━━━━━\u001b[0m \u001b[1m0s\u001b[0m 1ms/step"
     ]
    },
    {
     "name": "stderr",
     "output_type": "stream",
     "text": [
      "I0000 00:00:1733857846.565227  425358 device_compiler.h:188] Compiled cluster using XLA!  This line is logged at most once for the lifetime of the process.\n"
     ]
    },
    {
     "name": "stdout",
     "output_type": "stream",
     "text": [
      "\u001b[1m312/312\u001b[0m \u001b[32m━━━━━━━━━━━━━━━━━━━━\u001b[0m\u001b[37m\u001b[0m \u001b[1m1s\u001b[0m 3ms/step\n"
     ]
    },
    {
     "data": {
      "text/plain": [
       "array([8, 3, 8, ..., 4, 7, 1])"
      ]
     },
     "execution_count": 35,
     "metadata": {},
     "output_type": "execute_result"
    }
   ],
   "source": [
    "preds = model.predict(X_test)\n",
    "preds = np.argmax(tf.nn.softmax(preds), axis=1)\n",
    "preds"
   ]
  },
  {
   "cell_type": "code",
   "execution_count": 36,
   "id": "44aa4f6b-4e6b-412b-b5f3-719e39834308",
   "metadata": {},
   "outputs": [
    {
     "data": {
      "text/plain": [
       "array([8, 3, 8, ..., 4, 7, 1])"
      ]
     },
     "execution_count": 36,
     "metadata": {},
     "output_type": "execute_result"
    }
   ],
   "source": [
    "labels = np.argmax(y_test, axis=1)\n",
    "labels"
   ]
  },
  {
   "cell_type": "code",
   "execution_count": 37,
   "id": "a2a2c29e-1215-466e-9c6d-2859d6f92ff4",
   "metadata": {},
   "outputs": [
    {
     "name": "stdout",
     "output_type": "stream",
     "text": [
      "                     precision    recall  f1-score   support\n",
      "\n",
      " Activator_moderate       1.00      1.00      1.00      1091\n",
      "   Activator_strong       1.00      1.00      1.00      1099\n",
      "Activator_very weak       0.99      1.00      1.00      1034\n",
      "     Activator_weak       0.99      1.00      1.00      1136\n",
      "           Inactive       0.95      0.89      0.92      1140\n",
      " Inhibitor_moderate       1.00      1.00      1.00      1140\n",
      "   Inhibitor_strong       0.99      0.99      0.99      1091\n",
      "Inhibitor_very weak       0.91      0.95      0.93      1109\n",
      "     Inhibitor_weak       0.97      0.97      0.97      1138\n",
      "\n",
      "           accuracy                           0.98      9978\n",
      "          macro avg       0.98      0.98      0.98      9978\n",
      "       weighted avg       0.98      0.98      0.98      9978\n",
      "\n"
     ]
    }
   ],
   "source": [
    "print(classification_report(labels, preds, target_names=label_dict.keys()))"
   ]
  },
  {
   "cell_type": "code",
   "execution_count": null,
   "id": "84a695d2-120c-4a8d-87c8-86a50336d8b6",
   "metadata": {},
   "outputs": [],
   "source": [
    "dfs = []\n",
    "os.system(\"rm inference/all.csv\")\n",
    "for f in os.listdir(\"inference\"):\n",
    "    if \".csv\" not in f:\n",
    "        continue\n",
    "    df = pd.read_csv(f\"inference/{f}\")\n",
    "    fingerprints_inf = dict()\n",
    "    bad_smiles = list()\n",
    "    \n",
    "    for index, row in tqdm(df.iterrows(), total=df.shape[0]):\n",
    "        try:\n",
    "            mol = Chem.MolFromSmiles(row[\"smiles\"])\n",
    "            fp = AllChem.GetMorganFingerprintAsBitVect(mol, 2, nBits=2048)\n",
    "            arr = np.zeros((1,))\n",
    "            DataStructs.ConvertToNumpyArray(fp, arr)\n",
    "            fingerprints_inf[index] = arr\n",
    "        except Exception as e:\n",
    "            bad_smiles.append(index)\n",
    "\n",
    "    print(\"bad smiles\", bad_smiles)\n",
    "    df = df[~df.index.isin(bad_smiles)]\n",
    "    X = np.array(list(fingerprints_inf.values())).reshape(-1, 2048, 1)\n",
    "\n",
    "    preds = model.predict(X, verbose=True)\n",
    "    preds = np.argmax(tf.nn.softmax(preds), axis=1)\n",
    "    label_dict_inv = {v: k for k, v in label_dict.items()}\n",
    "    preds = [label_dict_inv[v] for v in preds.tolist()]\n",
    "    df[\"predictions_model2\"] = preds\n",
    "    df[\"filename\"] = f\n",
    "    df[\"substance_in_dataset\"] = df[\"smiles\"].isin(dataset[\"SMILES\"])\n",
    "    df[\"substance_experimental\"] = \"Unknown\"\n",
    "    for index, row in tqdm(df.iterrows(), total=df.shape[0]):\n",
    "        if row[\"substance_in_dataset\"]:\n",
    "            dss = dataset[dataset.SMILES == row[\"smiles\"]].iloc[0]\n",
    "            df.loc[index, \"substance_experimental\"] = dss[\"Label\"] + \"_\" + dss[\"Group\"]\n",
    "    #df.to_csv(f\"inference/{f}\", index=False)\n",
    "    dfs.append(df)\n",
    "\n",
    "df_all = pd.concat(dfs)\n",
    "df_all.to_csv(\"inference/all.csv\")"
   ]
  },
  {
   "cell_type": "code",
   "execution_count": null,
   "id": "ec266196-3eb3-4ae2-81ab-c75272291db0",
   "metadata": {},
   "outputs": [],
   "source": [
    "df_all"
   ]
  },
  {
   "cell_type": "code",
   "execution_count": null,
   "id": "2eae9b47-c266-430a-84f3-31e26952ba83",
   "metadata": {},
   "outputs": [],
   "source": [
    "experimental = df_all[(df_all.substance_in_dataset)].copy()\n",
    "print(experimental.shape[0])\n",
    "\n",
    "experimental.loc[experimental.substance_experimental.str.contains(\"inactive\", case=False), \"substance_experimental\"] = \"inactive\"\n",
    "\n",
    "correct = (experimental[\"predictions_model2\"].str.lower() == experimental[\"substance_experimental\"].str.lower()).sum()\n",
    "\n",
    "print(correct)\n",
    "print(correct / experimental.shape[0])"
   ]
  },
  {
   "cell_type": "code",
   "execution_count": null,
   "id": "964bead7-4876-4f53-896f-882a3490ff2d",
   "metadata": {},
   "outputs": [],
   "source": [
    "df_all.predictions_model2.value_counts()"
   ]
  },
  {
   "cell_type": "code",
   "execution_count": null,
   "id": "3dfe2791-086e-43ae-a27e-8961767295c8",
   "metadata": {},
   "outputs": [],
   "source": [
    "experimental.substance_experimental.value_counts()"
   ]
  },
  {
   "cell_type": "code",
   "execution_count": null,
   "id": "4d82a28f-362f-4c22-83a7-a639d0e6179d",
   "metadata": {},
   "outputs": [],
   "source": [
    "experimental.predictions_model2.value_counts()"
   ]
  },
  {
   "cell_type": "code",
   "execution_count": null,
   "id": "ec10724a-2beb-47ff-9db2-c6f98ee815ff",
   "metadata": {},
   "outputs": [],
   "source": [
    "new_detections = df_all[(~df_all.substance_in_dataset) & (df_all.predictions_model2.str.contains(\"strong\"))].copy()"
   ]
  },
  {
   "cell_type": "code",
   "execution_count": null,
   "id": "e0c2c45b-b6ea-4e0d-a4f7-59ab51af2bf5",
   "metadata": {},
   "outputs": [],
   "source": [
    "del new_detections[\"Unnamed: 0\"]\n",
    "new_detections.loc[new_detections.name.isna(), \"name\"] = new_detections.loc[new_detections.name.isna(), \"PREFERRED NAME\"]"
   ]
  },
  {
   "cell_type": "code",
   "execution_count": null,
   "id": "cedb7fd6-fbcc-4bae-be5f-c3f766eca9f7",
   "metadata": {},
   "outputs": [],
   "source": [
    "new_detections"
   ]
  },
  {
   "cell_type": "code",
   "execution_count": null,
   "id": "85116606-c720-46fc-8d24-938a279b150d",
   "metadata": {},
   "outputs": [],
   "source": [
    "new_detections.to_csv(\"new_detections.csv\")"
   ]
  },
  {
   "cell_type": "code",
   "execution_count": null,
   "id": "c919d476-8686-4a55-b862-8b213b1bf7cb",
   "metadata": {},
   "outputs": [],
   "source": [
    "df_all[df_all.DTXSID == \"DTXSID8051706\"]"
   ]
  },
  {
   "cell_type": "code",
   "execution_count": null,
   "id": "e744fbde-7254-45bb-a91b-37173b4f3f30",
   "metadata": {},
   "outputs": [],
   "source": [
    "df_all"
   ]
  },
  {
   "cell_type": "code",
   "execution_count": 39,
   "id": "1e2dcef5-bfc5-47a2-a686-269ca89f1554",
   "metadata": {},
   "outputs": [
    {
     "name": "stdout",
     "output_type": "stream",
     "text": [
      "0.972042634981653\n"
     ]
    }
   ],
   "source": [
    "from sklearn.metrics import confusion_matrix, ConfusionMatrixDisplay\n",
    "import seaborn as sns\n",
    "sns.set_theme(rc={'figure.figsize':(11.7,8.27)})\n",
    "import matplotlib.pyplot as plt     \n",
    "import plotly_express as px\n",
    "import pandas as pd\n",
    "\n",
    "df_all = pd.read_csv(\"inference/all.csv\")\n",
    "df = df_all.copy()\n",
    "df = df[df.substance_in_dataset]\n",
    "df = df[[\"name\", \"PREFERRED NAME\", \"predictions_model2\", \"substance_experimental\"]]\n",
    "df.columns = [\"name\", \"name_alt\", \"prediction\", \"experimental\"]\n",
    "df.experimental = df.experimental.replace(\"Unknown_inactive\", \"Inactive\")\n",
    "\n",
    "print((df.experimental == df.prediction).sum() / len(df))\n",
    "\n",
    "cm = confusion_matrix(df.experimental, df.prediction)\n",
    "cm = pd.DataFrame(cm, columns=label_dict.keys(), index=label_dict.keys())\n",
    "cm.to_csv(\"conf_matrix_1.csv\")\n",
    "px.imshow(cm, text_auto=True, aspect=\"auto\").write_html(\"conf_matrix_1.html\")\n",
    "px.imshow(cm, text_auto=True, aspect=\"auto\").write_image(\"conf_matrix_1.pdf\", format=\"pdf\")\n",
    "\n",
    "ranges = sorted([\"Activator\", \"Inactive\", \"Inhibitor\"])\n",
    "for name in ranges:\n",
    "    df.loc[df.prediction.str.contains(name), \"prediction\"] = name\n",
    "    df.loc[df.experimental.str.contains(name), \"experimental\"] = name\n",
    "\n",
    "cm = confusion_matrix(df.experimental, df.prediction)\n",
    "cm = pd.DataFrame(cm, columns=[\"Agonist\", \"Inactive\", \"Antagonist\"], index=[\"Agonist\", \"Inactive\", \"Antagonist\"])\n",
    "cm.to_csv(\"conf_matrix_2.csv\")\n",
    "px.imshow(cm, text_auto=True, aspect=\"auto\").write_html(\"conf_matrix_2.html\")\n",
    "px.imshow(cm, text_auto=True, aspect=\"auto\").write_image(\"conf_matrix_2.pdf\", format=\"pdf\")\n",
    "\n",
    "df = df_all.copy()\n",
    "df = df[df.substance_in_dataset]\n",
    "df = df[[\"name\", \"PREFERRED NAME\", \"predictions_model2\", \"substance_experimental\"]]\n",
    "df.columns = [\"name\", \"name_alt\", \"prediction\", \"experimental\"]\n",
    "df.experimental = df.experimental.replace(\"Unknown_inactive\", \"Inactive\")\n",
    "\n",
    "df.prediction = df.prediction.str.split(\"_\", expand=True)[1]\n",
    "df.experimental = df.experimental.str.split(\"_\", expand=True)[1]\n",
    "\n",
    "df.fillna(\"Inactive\", inplace=True)\n",
    "\n",
    "ranges = sorted(df.experimental.unique().tolist())\n",
    "\n",
    "cm = confusion_matrix(df.experimental, df.prediction)\n",
    "cm = pd.DataFrame(cm, columns=ranges, index=ranges)\n",
    "cm.to_csv(\"conf_matrix_3.csv\")\n",
    "px.imshow(cm, text_auto=True, aspect=\"auto\").write_html(\"conf_matrix_3.html\")\n",
    "px.imshow(cm, text_auto=True, aspect=\"auto\").write_image(\"conf_matrix_3.pdf\", format=\"pdf\")"
   ]
  },
  {
   "cell_type": "code",
   "execution_count": null,
   "id": "dc520cf2-3793-45bf-b4b3-ac4cb19f45f3",
   "metadata": {},
   "outputs": [],
   "source": []
  }
 ],
 "metadata": {
  "kernelspec": {
   "display_name": "Python 3 (ipykernel)",
   "language": "python",
   "name": "python3"
  },
  "language_info": {
   "codemirror_mode": {
    "name": "ipython",
    "version": 3
   },
   "file_extension": ".py",
   "mimetype": "text/x-python",
   "name": "python",
   "nbconvert_exporter": "python",
   "pygments_lexer": "ipython3",
   "version": "3.12.2"
  }
 },
 "nbformat": 4,
 "nbformat_minor": 5
}
